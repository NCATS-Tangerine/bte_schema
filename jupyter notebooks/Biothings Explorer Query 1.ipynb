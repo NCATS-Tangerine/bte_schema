{
 "cells": [
  {
   "cell_type": "code",
   "execution_count": 1,
   "metadata": {},
   "outputs": [],
   "source": [
    "from biothings_explorer.registry import Registry\n",
    "reg = Registry()"
   ]
  },
  {
   "cell_type": "code",
   "execution_count": 2,
   "metadata": {},
   "outputs": [],
   "source": [
    "from biothings_explorer.user_query_dispatcher import SingleEdgeQueryDispatcher"
   ]
  },
  {
   "cell_type": "code",
   "execution_count": 3,
   "metadata": {},
   "outputs": [],
   "source": [
    "from biothings_explorer.hint import Hint"
   ]
  },
  {
   "cell_type": "code",
   "execution_count": 4,
   "metadata": {},
   "outputs": [],
   "source": [
    "ht = Hint()"
   ]
  },
  {
   "cell_type": "markdown",
   "metadata": {},
   "source": [
    "ARHGAP31 -> CDC42"
   ]
  },
  {
   "cell_type": "code",
   "execution_count": 5,
   "metadata": {},
   "outputs": [
    {
     "data": {
      "text/plain": [
       "{'Gene': [{'entrez': '57514',\n",
       "   'name': 'Rho GTPase activating protein 31',\n",
       "   'symbol': 'ARHGAP31',\n",
       "   'taxonomy': 9606,\n",
       "   'umls': 'C1970471',\n",
       "   'display': 'entrez(57514) name(Rho GTPase activating protein 31) symbol(ARHGAP31) taxonomy(9606) umls(C1970471) ',\n",
       "   'type': 'Gene',\n",
       "   'primary': {'identifier': 'entrez', 'cls': 'Gene', 'value': '57514'}},\n",
       "  {'entrez': '12549',\n",
       "   'name': 'Rho GTPase activating protein 31',\n",
       "   'symbol': 'Arhgap31',\n",
       "   'taxonomy': 10090,\n",
       "   'display': 'entrez(12549) name(Rho GTPase activating protein 31) symbol(Arhgap31) taxonomy(10090) ',\n",
       "   'type': 'Gene',\n",
       "   'primary': {'identifier': 'entrez', 'cls': 'Gene', 'value': '12549'}},\n",
       "  {'entrez': '288093',\n",
       "   'name': 'Rho GTPase activating protein 31',\n",
       "   'symbol': 'Arhgap31',\n",
       "   'taxonomy': 10116,\n",
       "   'display': 'entrez(288093) name(Rho GTPase activating protein 31) symbol(Arhgap31) taxonomy(10116) ',\n",
       "   'type': 'Gene',\n",
       "   'primary': {'identifier': 'entrez', 'cls': 'Gene', 'value': '288093'}},\n",
       "  {'entrez': '100071056',\n",
       "   'name': 'Rho GTPase activating protein 31',\n",
       "   'symbol': 'ARHGAP31',\n",
       "   'taxonomy': 9796,\n",
       "   'display': 'entrez(100071056) name(Rho GTPase activating protein 31) symbol(ARHGAP31) taxonomy(9796) ',\n",
       "   'type': 'Gene',\n",
       "   'primary': {'identifier': 'entrez', 'cls': 'Gene', 'value': '100071056'}},\n",
       "  {'entrez': '100553371',\n",
       "   'name': 'Rho GTPase activating protein 31',\n",
       "   'symbol': 'arhgap31',\n",
       "   'taxonomy': 28377,\n",
       "   'display': 'entrez(100553371) name(Rho GTPase activating protein 31) symbol(arhgap31) taxonomy(28377) ',\n",
       "   'type': 'Gene',\n",
       "   'primary': {'identifier': 'entrez', 'cls': 'Gene', 'value': '100553371'}}],\n",
       " 'SequenceVariant': [],\n",
       " 'ChemicalSubstance': [],\n",
       " 'DiseaseOrPhenotypicFeature': [],\n",
       " 'Pathway': [],\n",
       " 'MolecularFunction': [],\n",
       " 'CellularComponent': [],\n",
       " 'BiologicalProcess': [],\n",
       " 'Anatomy': [],\n",
       " 'PhenotypicFeature': []}"
      ]
     },
     "execution_count": 5,
     "metadata": {},
     "output_type": "execute_result"
    }
   ],
   "source": [
    "ht.query(\"ARHGAP31\")"
   ]
  },
  {
   "cell_type": "code",
   "execution_count": 6,
   "metadata": {},
   "outputs": [],
   "source": [
    "input_obj = _5['Gene'][0]"
   ]
  },
  {
   "cell_type": "code",
   "execution_count": 7,
   "metadata": {},
   "outputs": [],
   "source": [
    "seqd = SingleEdgeQueryDispatcher(input_obj=input_obj, output_cls='Gene', output_id=\"bts:symbol\", registry=reg)"
   ]
  },
  {
   "cell_type": "code",
   "execution_count": 8,
   "metadata": {},
   "outputs": [],
   "source": [
    "seqd.query()"
   ]
  },
  {
   "cell_type": "code",
   "execution_count": 9,
   "metadata": {},
   "outputs": [
    {
     "data": {
      "text/plain": [
       "NodeView(('57514', '1333857', '1306093', 'ENSGALG00000043898', 'ENSGALG00000015077', 'ZDB-GENE-100922-256', 'FBgn0032821', 'C3274857', 'C0082529', 'C0751984', 'C3540564', 'C0018296', 'CYLD', 'RHOH', 'KRAS', 'CDC42', 'RAC2', 'RAC1', 'RHOF', 'RHOT1', 'RHOT2', 'RHOU', 'KALRN', 'RHOQ', 'VIRMA', 'RHOV', 'RHOBTB2', 'RHOBTB1', 'MAPK3', 'ITSN1', 'RHOG', 'RHOB', 'RHOA', 'RHOC', 'RHOJ', 'RHOD', 'RAC3', 'ARHGAP30', 'ARHGAP33', 'ARHGAP32', 'AKT1', 'AJUBA', 'RAP1B', 'RASA1', 'RGS6'))"
      ]
     },
     "execution_count": 9,
     "metadata": {},
     "output_type": "execute_result"
    }
   ],
   "source": [
    "seqd.G.nodes()"
   ]
  },
  {
   "cell_type": "code",
   "execution_count": 10,
   "metadata": {},
   "outputs": [
    {
     "data": {
      "text/plain": [
       "AtlasView({0: {'info': {'bts:hgnc': ['1736'], 'bts:taxid': ['NCBITaxon:9606'], 'bts:source': ['https://data.monarchinitiative.org/ttl/string.ttl'], '@type': 'Gene', '$input': 'bts:entrez', '$source': 'biolink'}, 'label': 'bts:molecularlyInteractsWith', 'source': 'biolink'}})"
      ]
     },
     "execution_count": 10,
     "metadata": {},
     "output_type": "execute_result"
    }
   ],
   "source": [
    "seqd.G['57514']['CDC42']"
   ]
  },
  {
   "cell_type": "markdown",
   "metadata": {},
   "source": [
    "DOCK6 -> CDC42"
   ]
  },
  {
   "cell_type": "code",
   "execution_count": 11,
   "metadata": {},
   "outputs": [
    {
     "data": {
      "text/plain": [
       "{'Gene': [{'entrez': '57572',\n",
       "   'name': 'dedicator of cytokinesis 6',\n",
       "   'symbol': 'DOCK6',\n",
       "   'taxonomy': 9606,\n",
       "   'umls': 'C1426077',\n",
       "   'display': 'entrez(57572) name(dedicator of cytokinesis 6) symbol(DOCK6) taxonomy(9606) umls(C1426077) ',\n",
       "   'type': 'Gene',\n",
       "   'primary': {'identifier': 'entrez', 'cls': 'Gene', 'value': '57572'}},\n",
       "  {'entrez': '319899',\n",
       "   'name': 'dedicator of cytokinesis 6',\n",
       "   'symbol': 'Dock6',\n",
       "   'taxonomy': 10090,\n",
       "   'display': 'entrez(319899) name(dedicator of cytokinesis 6) symbol(Dock6) taxonomy(10090) ',\n",
       "   'type': 'Gene',\n",
       "   'primary': {'identifier': 'entrez', 'cls': 'Gene', 'value': '319899'}},\n",
       "  {'entrez': '367039',\n",
       "   'name': 'dedicator of cytokinesis 6',\n",
       "   'symbol': 'Dock6',\n",
       "   'taxonomy': 10116,\n",
       "   'display': 'entrez(367039) name(dedicator of cytokinesis 6) symbol(Dock6) taxonomy(10116) ',\n",
       "   'type': 'Gene',\n",
       "   'primary': {'identifier': 'entrez', 'cls': 'Gene', 'value': '367039'}},\n",
       "  {'entrez': '114502370',\n",
       "   'name': 'dedicator of cytokinesis 6',\n",
       "   'symbol': 'DOCK6',\n",
       "   'taxonomy': 89673,\n",
       "   'display': 'entrez(114502370) name(dedicator of cytokinesis 6) symbol(DOCK6) taxonomy(89673) ',\n",
       "   'type': 'Gene',\n",
       "   'primary': {'identifier': 'entrez', 'cls': 'Gene', 'value': '114502370'}},\n",
       "  {'entrez': '110214340',\n",
       "   'name': 'dedicator of cytokinesis 6',\n",
       "   'symbol': 'DOCK6',\n",
       "   'taxonomy': 38626,\n",
       "   'display': 'entrez(110214340) name(dedicator of cytokinesis 6) symbol(DOCK6) taxonomy(38626) ',\n",
       "   'type': 'Gene',\n",
       "   'primary': {'identifier': 'entrez', 'cls': 'Gene', 'value': '110214340'}}],\n",
       " 'SequenceVariant': [],\n",
       " 'ChemicalSubstance': [],\n",
       " 'DiseaseOrPhenotypicFeature': [],\n",
       " 'Pathway': [],\n",
       " 'MolecularFunction': [],\n",
       " 'CellularComponent': [],\n",
       " 'BiologicalProcess': [],\n",
       " 'Anatomy': [],\n",
       " 'PhenotypicFeature': []}"
      ]
     },
     "execution_count": 11,
     "metadata": {},
     "output_type": "execute_result"
    }
   ],
   "source": [
    "ht.query(\"DOCK6\")"
   ]
  },
  {
   "cell_type": "code",
   "execution_count": 12,
   "metadata": {},
   "outputs": [],
   "source": [
    "input_obj = _11['Gene'][0]"
   ]
  },
  {
   "cell_type": "code",
   "execution_count": 13,
   "metadata": {},
   "outputs": [
    {
     "data": {
      "text/plain": [
       "{'entrez': '57572',\n",
       " 'name': 'dedicator of cytokinesis 6',\n",
       " 'symbol': 'DOCK6',\n",
       " 'taxonomy': 9606,\n",
       " 'umls': 'C1426077',\n",
       " 'display': 'entrez(57572) name(dedicator of cytokinesis 6) symbol(DOCK6) taxonomy(9606) umls(C1426077) ',\n",
       " 'type': 'Gene',\n",
       " 'primary': {'identifier': 'entrez', 'cls': 'Gene', 'value': '57572'}}"
      ]
     },
     "execution_count": 13,
     "metadata": {},
     "output_type": "execute_result"
    }
   ],
   "source": [
    "input_obj"
   ]
  },
  {
   "cell_type": "code",
   "execution_count": 14,
   "metadata": {},
   "outputs": [],
   "source": [
    "seqd = SingleEdgeQueryDispatcher(input_obj=input_obj, output_cls=\"Gene\", output_id=\"bts:symbol\", registry=reg)"
   ]
  },
  {
   "cell_type": "code",
   "execution_count": 15,
   "metadata": {},
   "outputs": [],
   "source": [
    "seqd.query()"
   ]
  },
  {
   "cell_type": "code",
   "execution_count": 16,
   "metadata": {},
   "outputs": [
    {
     "data": {
      "text/plain": [
       "NodeView(('57572', '107927', '2681869', '97167', '109596', '1201674', '1914789', '1306517', 'ZDB-GENE-120411-11', 'FBgn0031216', 'DDB_G0293084', 'DDB_G0268888', 'DDB_G0275239', 'DDB_G0275035', 'AT4G16340', 'C0164786', 'C1705433', 'C1706176', 'C0174045', 'C0120465', 'DOCK7', 'DOCK8', 'KANK2', 'KIF7', 'CDC42', 'XPO1', 'RAC1', 'MYH6', 'RNASEH2A', 'SLC33A1', 'MOB1B', 'ZNF331', 'CLU', 'MOB1A', 'CRLF3', 'HNRNPL', 'LRP8', 'TADA2A', 'REEP5', 'ZNF785', 'UBC', 'LRCH3', 'RAB2A', 'RAB32', 'DOCK11', 'DOCK10', 'DOCK9', 'AKT1', 'SLC2A4RG', 'ARHGEF2'))"
      ]
     },
     "execution_count": 16,
     "metadata": {},
     "output_type": "execute_result"
    }
   ],
   "source": [
    "seqd.G.nodes()"
   ]
  },
  {
   "cell_type": "code",
   "execution_count": 17,
   "metadata": {},
   "outputs": [
    {
     "data": {
      "text/plain": [
       "AtlasView({0: {'info': {'bts:hgnc': ['1736'], 'bts:taxid': ['NCBITaxon:9606'], 'bts:source': ['https://data.monarchinitiative.org/ttl/string.ttl'], '@type': 'Gene', '$input': 'bts:entrez', '$source': 'biolink'}, 'label': 'bts:molecularlyInteractsWith', 'source': 'biolink'}, 1: {'info': {'@type': 'Gene', 'bts:umls': ['C1366537'], '$source': 'semmedgene'}, 'label': 'bts:molecularlyInteractsWith', 'source': 'semmedgene'}})"
      ]
     },
     "execution_count": 17,
     "metadata": {},
     "output_type": "execute_result"
    }
   ],
   "source": [
    "seqd.G['57572']['CDC42']"
   ]
  },
  {
   "cell_type": "markdown",
   "metadata": {},
   "source": [
    "DOCK6 -> Adams-Oliver Syndrome"
   ]
  },
  {
   "cell_type": "code",
   "execution_count": 18,
   "metadata": {},
   "outputs": [],
   "source": [
    "seqd = SingleEdgeQueryDispatcher(input_obj=input_obj, output_cls='DiseaseOrPhenotypicFeature', registry=reg)"
   ]
  },
  {
   "cell_type": "code",
   "execution_count": 19,
   "metadata": {},
   "outputs": [],
   "source": [
    "seqd.query()"
   ]
  },
  {
   "cell_type": "code",
   "execution_count": 20,
   "metadata": {},
   "outputs": [
    {
     "data": {
      "text/plain": [
       "NodeView(('57572', 'MONDO:0005084', 'MONDO:0004978', 'MONDO:0007034', 'MONDO:0013635', 'MONDO:0024506'))"
      ]
     },
     "execution_count": 20,
     "metadata": {},
     "output_type": "execute_result"
    }
   ],
   "source": [
    "seqd.G.nodes()"
   ]
  },
  {
   "cell_type": "code",
   "execution_count": 22,
   "metadata": {},
   "outputs": [
    {
     "data": {
      "text/plain": [
       "AtlasView({0: {'info': {'bts:mondo': ['MONDO:0007034'], 'bts:source': ['https://data.monarchinitiative.org/ttl/omim.ttl', 'https://data.monarchinitiative.org/ttl/orphanet.ttl', 'https://data.monarchinitiative.org/ttl/clinvar.nt'], '@type': 'DiseaseOrPhenotypicFeature', '$input': 'bts:entrez', '$source': 'biolink'}, 'label': 'bts:associatedWith', 'source': 'biolink'}, 1: {'info': {'@type': 'DiseaseOrPhenotypicFeature', 'bts:umls': ['C0265268'], '$source': 'mydisease.info'}, 'label': 'bts:associatedWith', 'source': 'mydisease.info'}})"
      ]
     },
     "execution_count": 22,
     "metadata": {},
     "output_type": "execute_result"
    }
   ],
   "source": [
    "seqd.G['57572']['MONDO:0007034']"
   ]
  },
  {
   "cell_type": "markdown",
   "metadata": {},
   "source": [
    "ARHGAP31 -> Adams-Oliver Syndrome"
   ]
  },
  {
   "cell_type": "code",
   "execution_count": 24,
   "metadata": {},
   "outputs": [
    {
     "data": {
      "text/plain": [
       "{'Gene': [{'entrez': '57514',\n",
       "   'name': 'Rho GTPase activating protein 31',\n",
       "   'symbol': 'ARHGAP31',\n",
       "   'taxonomy': 9606,\n",
       "   'umls': 'C1970471',\n",
       "   'display': 'entrez(57514) name(Rho GTPase activating protein 31) symbol(ARHGAP31) taxonomy(9606) umls(C1970471) ',\n",
       "   'type': 'Gene',\n",
       "   'primary': {'identifier': 'entrez', 'cls': 'Gene', 'value': '57514'}},\n",
       "  {'entrez': '12549',\n",
       "   'name': 'Rho GTPase activating protein 31',\n",
       "   'symbol': 'Arhgap31',\n",
       "   'taxonomy': 10090,\n",
       "   'display': 'entrez(12549) name(Rho GTPase activating protein 31) symbol(Arhgap31) taxonomy(10090) ',\n",
       "   'type': 'Gene',\n",
       "   'primary': {'identifier': 'entrez', 'cls': 'Gene', 'value': '12549'}},\n",
       "  {'entrez': '288093',\n",
       "   'name': 'Rho GTPase activating protein 31',\n",
       "   'symbol': 'Arhgap31',\n",
       "   'taxonomy': 10116,\n",
       "   'display': 'entrez(288093) name(Rho GTPase activating protein 31) symbol(Arhgap31) taxonomy(10116) ',\n",
       "   'type': 'Gene',\n",
       "   'primary': {'identifier': 'entrez', 'cls': 'Gene', 'value': '288093'}},\n",
       "  {'entrez': '100071056',\n",
       "   'name': 'Rho GTPase activating protein 31',\n",
       "   'symbol': 'ARHGAP31',\n",
       "   'taxonomy': 9796,\n",
       "   'display': 'entrez(100071056) name(Rho GTPase activating protein 31) symbol(ARHGAP31) taxonomy(9796) ',\n",
       "   'type': 'Gene',\n",
       "   'primary': {'identifier': 'entrez', 'cls': 'Gene', 'value': '100071056'}},\n",
       "  {'entrez': '100553371',\n",
       "   'name': 'Rho GTPase activating protein 31',\n",
       "   'symbol': 'arhgap31',\n",
       "   'taxonomy': 28377,\n",
       "   'display': 'entrez(100553371) name(Rho GTPase activating protein 31) symbol(arhgap31) taxonomy(28377) ',\n",
       "   'type': 'Gene',\n",
       "   'primary': {'identifier': 'entrez', 'cls': 'Gene', 'value': '100553371'}}],\n",
       " 'SequenceVariant': [],\n",
       " 'ChemicalSubstance': [],\n",
       " 'DiseaseOrPhenotypicFeature': [],\n",
       " 'Pathway': [],\n",
       " 'MolecularFunction': [],\n",
       " 'CellularComponent': [],\n",
       " 'BiologicalProcess': [],\n",
       " 'Anatomy': [],\n",
       " 'PhenotypicFeature': []}"
      ]
     },
     "execution_count": 24,
     "metadata": {},
     "output_type": "execute_result"
    }
   ],
   "source": [
    "ht.query(\"ARHGAP31\")"
   ]
  },
  {
   "cell_type": "code",
   "execution_count": 25,
   "metadata": {},
   "outputs": [],
   "source": [
    "input_obj = _24['Gene'][0]"
   ]
  },
  {
   "cell_type": "code",
   "execution_count": 26,
   "metadata": {},
   "outputs": [],
   "source": [
    "seqd = SingleEdgeQueryDispatcher(input_obj=input_obj, output_cls='DiseaseOrPhenotypicFeature', registry=reg)"
   ]
  },
  {
   "cell_type": "code",
   "execution_count": 27,
   "metadata": {},
   "outputs": [],
   "source": [
    "seqd.query()"
   ]
  },
  {
   "cell_type": "code",
   "execution_count": 28,
   "metadata": {},
   "outputs": [
    {
     "data": {
      "text/plain": [
       "NodeView(('57514', 'MONDO:0007179', 'MONDO:0005130', 'MONDO:0005090', 'MONDO:0007034', '100188340', 'C0687133', 'MONDO:0024506'))"
      ]
     },
     "execution_count": 28,
     "metadata": {},
     "output_type": "execute_result"
    }
   ],
   "source": [
    "seqd.G.nodes()"
   ]
  },
  {
   "cell_type": "code",
   "execution_count": 29,
   "metadata": {},
   "outputs": [
    {
     "data": {
      "text/plain": [
       "AtlasView({0: {'info': {'bts:mondo': ['MONDO:0007034'], 'bts:source': ['https://data.monarchinitiative.org/ttl/omim.ttl', 'https://data.monarchinitiative.org/ttl/orphanet.ttl'], '@type': 'DiseaseOrPhenotypicFeature', '$input': 'bts:entrez', '$source': 'biolink'}, 'label': 'bts:associatedWith', 'source': 'biolink'}, 1: {'info': {'@type': 'DiseaseOrPhenotypicFeature', 'bts:umls': ['C0265268'], '$source': 'mydisease.info'}, 'label': 'bts:associatedWith', 'source': 'mydisease.info'}})"
      ]
     },
     "execution_count": 29,
     "metadata": {},
     "output_type": "execute_result"
    }
   ],
   "source": [
    "seqd.G['57514']['MONDO:0007034']"
   ]
  },
  {
   "cell_type": "markdown",
   "metadata": {},
   "source": [
    "EOGT -> Adams-Oliver Syndrome"
   ]
  },
  {
   "cell_type": "code",
   "execution_count": 30,
   "metadata": {},
   "outputs": [
    {
     "data": {
      "text/plain": [
       "{'Gene': [{'entrez': '285203',\n",
       "   'name': 'EGF domain specific O-linked N-acetylglucosamine transferase',\n",
       "   'symbol': 'EOGT',\n",
       "   'taxonomy': 9606,\n",
       "   'umls': 'C1824159',\n",
       "   'display': 'entrez(285203) name(EGF domain specific O-linked N-acetylglucosamine transferase) symbol(EOGT) taxonomy(9606) umls(C1824159) ',\n",
       "   'type': 'Gene',\n",
       "   'primary': {'identifier': 'entrez', 'cls': 'Gene', 'value': '285203'}},\n",
       "  {'entrez': '101351',\n",
       "   'name': 'EGF domain-specific O-linked N-acetylglucosamine (GlcNAc) transferase',\n",
       "   'symbol': 'Eogt',\n",
       "   'taxonomy': 10090,\n",
       "   'display': 'entrez(101351) name(EGF domain-specific O-linked N-acetylglucosamine (GlcNAc) transferase) symbol(Eogt) taxonomy(10090) ',\n",
       "   'type': 'Gene',\n",
       "   'primary': {'identifier': 'entrez', 'cls': 'Gene', 'value': '101351'}},\n",
       "  {'entrez': '494219',\n",
       "   'name': 'EGF domain specific O-linked N-acetylglucosamine transferase',\n",
       "   'symbol': 'Eogt',\n",
       "   'taxonomy': 10116,\n",
       "   'display': 'entrez(494219) name(EGF domain specific O-linked N-acetylglucosamine transferase) symbol(Eogt) taxonomy(10116) ',\n",
       "   'type': 'Gene',\n",
       "   'primary': {'identifier': 'entrez', 'cls': 'Gene', 'value': '494219'}},\n",
       "  {'entrez': '103775527',\n",
       "   'name': 'EGF domain specific O-linked N-acetylglucosamine transferase',\n",
       "   'symbol': 'EOGT',\n",
       "   'taxonomy': 57421,\n",
       "   'display': 'entrez(103775527) name(EGF domain specific O-linked N-acetylglucosamine transferase) symbol(EOGT) taxonomy(57421) ',\n",
       "   'type': 'Gene',\n",
       "   'primary': {'identifier': 'entrez', 'cls': 'Gene', 'value': '103775527'}},\n",
       "  {'entrez': '107530428',\n",
       "   'name': 'EGF domain specific O-linked N-acetylglucosamine transferase',\n",
       "   'symbol': 'EOGT',\n",
       "   'taxonomy': 291302,\n",
       "   'display': 'entrez(107530428) name(EGF domain specific O-linked N-acetylglucosamine transferase) symbol(EOGT) taxonomy(291302) ',\n",
       "   'type': 'Gene',\n",
       "   'primary': {'identifier': 'entrez', 'cls': 'Gene', 'value': '107530428'}}],\n",
       " 'SequenceVariant': [],\n",
       " 'ChemicalSubstance': [],\n",
       " 'DiseaseOrPhenotypicFeature': [],\n",
       " 'Pathway': [],\n",
       " 'MolecularFunction': [],\n",
       " 'CellularComponent': [],\n",
       " 'BiologicalProcess': [],\n",
       " 'Anatomy': [],\n",
       " 'PhenotypicFeature': []}"
      ]
     },
     "execution_count": 30,
     "metadata": {},
     "output_type": "execute_result"
    }
   ],
   "source": [
    "ht.query(\"EOGT\")"
   ]
  },
  {
   "cell_type": "code",
   "execution_count": 31,
   "metadata": {},
   "outputs": [],
   "source": [
    "input_obj = _30['Gene'][0]"
   ]
  },
  {
   "cell_type": "code",
   "execution_count": 32,
   "metadata": {},
   "outputs": [],
   "source": [
    "seqd = SingleEdgeQueryDispatcher(input_obj=input_obj, output_cls='DiseaseOrPhenotypicFeature', registry=reg)"
   ]
  },
  {
   "cell_type": "code",
   "execution_count": 33,
   "metadata": {},
   "outputs": [],
   "source": [
    "seqd.query()"
   ]
  },
  {
   "cell_type": "code",
   "execution_count": 34,
   "metadata": {},
   "outputs": [
    {
     "data": {
      "text/plain": [
       "NodeView(('285203', 'MONDO:0007034', 'MONDO:0014124', 'MONDO:0024506'))"
      ]
     },
     "execution_count": 34,
     "metadata": {},
     "output_type": "execute_result"
    }
   ],
   "source": [
    "seqd.G.nodes()"
   ]
  },
  {
   "cell_type": "code",
   "execution_count": 35,
   "metadata": {},
   "outputs": [
    {
     "data": {
      "text/plain": [
       "AtlasView({0: {'info': {'bts:mondo': ['MONDO:0007034'], 'bts:source': ['https://data.monarchinitiative.org/ttl/omim.ttl', 'https://data.monarchinitiative.org/ttl/orphanet.ttl', 'https://data.monarchinitiative.org/ttl/clinvar.nt'], '@type': 'DiseaseOrPhenotypicFeature', '$input': 'bts:entrez', '$source': 'biolink'}, 'label': 'bts:associatedWith', 'source': 'biolink'}, 1: {'info': {'@type': 'DiseaseOrPhenotypicFeature', 'bts:umls': ['C0265268'], '$source': 'mydisease.info'}, 'label': 'bts:associatedWith', 'source': 'mydisease.info'}})"
      ]
     },
     "execution_count": 35,
     "metadata": {},
     "output_type": "execute_result"
    }
   ],
   "source": [
    "seqd.G['285203']['MONDO:0007034']"
   ]
  },
  {
   "cell_type": "markdown",
   "metadata": {},
   "source": [
    "EOGT -> NOTCH1"
   ]
  },
  {
   "cell_type": "code",
   "execution_count": 39,
   "metadata": {},
   "outputs": [],
   "source": [
    "seqd = SingleEdgeQueryDispatcher(input_obj=input_obj, output_cls=\"Gene\", output_id=\"bts:symbol\", registry=reg)"
   ]
  },
  {
   "cell_type": "code",
   "execution_count": 40,
   "metadata": {},
   "outputs": [],
   "source": [
    "seqd.query()"
   ]
  },
  {
   "cell_type": "code",
   "execution_count": 41,
   "metadata": {},
   "outputs": [
    {
     "data": {
      "text/plain": [
       "NodeView(('285203', '1919369', '1346340', 'FBgn0004647', '2141669', '1359357', 'ENSGALG00000013406', 'ZDB-GENE-120813-8', 'FBgn0264672', 'C3540585', 'C2699841', 'APP', 'F9', 'SAMD9', 'TRAC', 'EYA4', 'IFI30', 'HNRNPL', 'SCGB1D1', 'INSL5', 'LYZL1', 'SCGB2A2', 'A2M', 'OGT', 'RACGAP1', 'PLA2G10', 'PLAUR', 'PRG3', 'PTPRK', 'LYPD1', 'PSG8', 'POMGNT2', 'DLL1', 'PSMB6', 'EGF'))"
      ]
     },
     "execution_count": 41,
     "metadata": {},
     "output_type": "execute_result"
    }
   ],
   "source": [
    "seqd.G.nodes()"
   ]
  },
  {
   "cell_type": "markdown",
   "metadata": {},
   "source": [
    "NOTCH1 -> DLL4, NOTCH1 -> KDR, NOTCH1 -> APP, NOTCH1 -> TRIO"
   ]
  },
  {
   "cell_type": "code",
   "execution_count": 42,
   "metadata": {},
   "outputs": [
    {
     "data": {
      "text/plain": [
       "{'Gene': [{'entrez': '4851',\n",
       "   'name': 'notch receptor 1',\n",
       "   'symbol': 'NOTCH1',\n",
       "   'taxonomy': 9606,\n",
       "   'umls': 'C1334889',\n",
       "   'display': 'entrez(4851) name(notch receptor 1) symbol(NOTCH1) taxonomy(9606) umls(C1334889) ',\n",
       "   'type': 'Gene',\n",
       "   'primary': {'identifier': 'entrez', 'cls': 'Gene', 'value': '4851'}},\n",
       "  {'entrez': '18128',\n",
       "   'name': 'notch 1',\n",
       "   'symbol': 'Notch1',\n",
       "   'taxonomy': 10090,\n",
       "   'display': 'entrez(18128) name(notch 1) symbol(Notch1) taxonomy(10090) ',\n",
       "   'type': 'Gene',\n",
       "   'primary': {'identifier': 'entrez', 'cls': 'Gene', 'value': '18128'}},\n",
       "  {'entrez': '25496',\n",
       "   'name': 'notch receptor 1',\n",
       "   'symbol': 'Notch1',\n",
       "   'taxonomy': 10116,\n",
       "   'display': 'entrez(25496) name(notch receptor 1) symbol(Notch1) taxonomy(10116) ',\n",
       "   'type': 'Gene',\n",
       "   'primary': {'identifier': 'entrez', 'cls': 'Gene', 'value': '25496'}},\n",
       "  {'entrez': '113124468',\n",
       "   'name': 'notch receptor 1',\n",
       "   'symbol': 'notch1',\n",
       "   'taxonomy': 205130,\n",
       "   'display': 'entrez(113124468) name(notch receptor 1) symbol(notch1) taxonomy(205130) ',\n",
       "   'type': 'Gene',\n",
       "   'primary': {'identifier': 'entrez', 'cls': 'Gene', 'value': '113124468'}},\n",
       "  {'entrez': '101837819',\n",
       "   'name': 'notch receptor 1',\n",
       "   'symbol': 'Notch1',\n",
       "   'taxonomy': 10036,\n",
       "   'display': 'entrez(101837819) name(notch receptor 1) symbol(Notch1) taxonomy(10036) ',\n",
       "   'type': 'Gene',\n",
       "   'primary': {'identifier': 'entrez', 'cls': 'Gene', 'value': '101837819'}}],\n",
       " 'SequenceVariant': [],\n",
       " 'ChemicalSubstance': [],\n",
       " 'DiseaseOrPhenotypicFeature': [],\n",
       " 'Pathway': [{'name': 'Signaling by NOTCH1',\n",
       "   'wikipathways': 'WP2720',\n",
       "   'display': 'name(Signaling by NOTCH1) wikipathways(WP2720) ',\n",
       "   'type': 'Pathway',\n",
       "   'primary': {'identifier': 'wikipathways',\n",
       "    'cls': 'Pathway',\n",
       "    'value': 'WP2720'}},\n",
       "  {'name': 'Signaling by NOTCH1',\n",
       "   'reactome': 'R-BTA-1980143',\n",
       "   'display': 'name(Signaling by NOTCH1) reactome(R-BTA-1980143) ',\n",
       "   'type': 'Pathway',\n",
       "   'primary': {'identifier': 'reactome',\n",
       "    'cls': 'Pathway',\n",
       "    'value': 'R-BTA-1980143'}},\n",
       "  {'name': 'Signaling by NOTCH1',\n",
       "   'reactome': 'R-XTR-1980143',\n",
       "   'display': 'name(Signaling by NOTCH1) reactome(R-XTR-1980143) ',\n",
       "   'type': 'Pathway',\n",
       "   'primary': {'identifier': 'reactome',\n",
       "    'cls': 'Pathway',\n",
       "    'value': 'R-XTR-1980143'}},\n",
       "  {'name': 'Signaling by NOTCH1',\n",
       "   'reactome': 'R-SSC-1980143',\n",
       "   'display': 'name(Signaling by NOTCH1) reactome(R-SSC-1980143) ',\n",
       "   'type': 'Pathway',\n",
       "   'primary': {'identifier': 'reactome',\n",
       "    'cls': 'Pathway',\n",
       "    'value': 'R-SSC-1980143'}},\n",
       "  {'name': 'Signaling by NOTCH1',\n",
       "   'reactome': 'R-GGA-1980143',\n",
       "   'display': 'name(Signaling by NOTCH1) reactome(R-GGA-1980143) ',\n",
       "   'type': 'Pathway',\n",
       "   'primary': {'identifier': 'reactome',\n",
       "    'cls': 'Pathway',\n",
       "    'value': 'R-GGA-1980143'}}],\n",
       " 'MolecularFunction': [],\n",
       " 'CellularComponent': [],\n",
       " 'BiologicalProcess': [],\n",
       " 'Anatomy': [],\n",
       " 'PhenotypicFeature': []}"
      ]
     },
     "execution_count": 42,
     "metadata": {},
     "output_type": "execute_result"
    }
   ],
   "source": [
    "ht.query(\"NOTCH1\")"
   ]
  },
  {
   "cell_type": "code",
   "execution_count": 43,
   "metadata": {},
   "outputs": [],
   "source": [
    "input_obj = _42['Gene'][0]"
   ]
  },
  {
   "cell_type": "code",
   "execution_count": 48,
   "metadata": {},
   "outputs": [],
   "source": [
    "seqd = SingleEdgeQueryDispatcher(input_obj=input_obj, output_cls=\"Gene\", output_id=\"bts:symbol\", registry=reg)"
   ]
  },
  {
   "cell_type": "code",
   "execution_count": 49,
   "metadata": {},
   "outputs": [],
   "source": [
    "seqd.query()"
   ]
  },
  {
   "cell_type": "code",
   "execution_count": 50,
   "metadata": {},
   "outputs": [
    {
     "data": {
      "text/plain": [
       "NodeView(('4851', '97363', 'ENSGALG00000002375', 'C2827379', 'C0165519', 'C1704964', 'C2984560', 'C3889458', 'C0033640', 'C0054450', 'C2983552', 'C3538798', 'C3811802', 'C0913155', 'C1705138', 'C0031678', 'C2700222', 'C3538849', 'C1332838', 'C1705985', 'C2984536', 'C3714973', 'C0025543', 'C0208355', 'C0291573', 'C1705526', 'C1706879', 'C1705982', 'C0022457', 'C3829362', 'C2987044', 'C2699237', 'C0062773', 'C2827373', 'C0079068', 'C1709127', 'C1705720', 'C0244987', 'C0023689', 'C0379528', 'C2827371', 'C2984596', 'C1704868', 'C1705280', 'C2346452', 'C1705082', 'C1881490', 'C1709384', 'C2699836', 'C1705767', 'C1704824', 'C4521364', 'C3539571', 'C2985259', 'C3538885', 'C1705271', 'C1705543', 'C3889252', 'C1706224', 'C2825957', 'C2826006', 'C1704873', 'C1708843', 'C1705846', 'C1709136', 'C1704661', 'C3539774', 'C1705325', 'C3539667', 'C1705934', 'C3539566', 'C1706894', 'C3812262', 'C2827459', 'C1706637', 'C3889408', 'C1705831', 'C2700300', 'C3541324', 'C1707078', 'C1706590', 'C1706438', 'C3889467', 'C3811170', 'C0017337', 'C0079427', 'C1367471', 'C0010656', 'C0019643', 'C0030940', 'C0033164', 'C0061878', 'C0078939', 'C0085151', 'C0136134', 'C0164786', 'C0172537', 'C0244988', 'C0287990', 'C0669365', 'C0752312', 'C1565434', 'C0077678', 'C0002059', 'C0008546', 'C0010803', 'C0032405', 'C0035094', 'C0061666', 'C0256371', 'C0669372', 'C1136240', 'C3812737', 'C3541980', 'C3272491', 'C1705456', 'C1704825', 'C1705964', 'C2987244', 'C1705411', 'C3273757', 'C2348502', 'C1705572', 'C3273507', 'C1706384', 'C1705844', 'C2983560', 'C3539722', 'C2697857', 'C4284041', 'C2984121', 'C4084758', 'C3539626', 'C2347263', 'C0035899', 'C0920288', 'C1705047', 'C0001476', 'C0018358', 'C0044602', 'C0385469', 'C0387583', 'C0623362', 'C1307407', 'APC', 'XIAP', 'CREBBP', 'MED23', 'GATAD2B', 'TRAPPC9', 'AKT1', 'CTNNB1', 'CCN2', 'CUL3', 'MAMLD1', 'CXCR4', 'ACTA2', 'SMC3', 'ADAM10', 'ADAM17', 'IKZF3', 'IKZF1', 'WNT3A', 'HDAC8', 'DNM1', 'PRPF6', 'DLK1', 'DLL1', 'DLL4', 'DLL3', 'SMAD9', 'SMAD4', 'GATA2', 'SMAD3', 'GATA3', 'LOX', 'MDM2', 'SMARCA4', 'SMARCA5', 'SMARCC2', 'SOX2', 'GFI1B', 'MAP3K1', 'MAPK1', 'SNAI2', 'SMC1A', 'AXIN1', 'B4GALT1', 'WDR11', 'SOX9', 'ITCH', 'SQSTM1', 'SRC', 'ATP2A1', 'ATP2A2', 'CNTN1', 'ATM', 'NEUROG3', 'COL4A6', 'HCFC1', 'ASCL1', 'STUB1', 'APP', 'RUNX1', 'JAG1', 'PAX6', 'IL6', 'PIK3CA', 'SHH', 'LFNG', 'LCK', 'POGLUT1', 'KRAS', 'PHF8', 'PBRM1', 'KDM1A', 'SMCHD1', 'PSENEN', 'PRPF8', 'MFAP5', 'TBL1XR1', 'MIB2', 'GOPC', 'BMP2', 'BMP4', 'FLT4', 'FLT1', 'FANCF', 'FANCG', 'FANCC', 'FANCA', 'MED25', 'HDAC6', 'HDAC4', 'FOS', 'FOXO1', 'CBL', 'CCND1', 'CASR', 'CACNA1A', 'FOXC2', 'CDKN1B', 'LRBA', 'WWTR1', 'NOTCH3', 'LRTM2', 'SLIT3', 'SLIT1', 'LRTM1', 'LGR6', 'SLIT2', 'NOTCH2', 'LMOD1', 'MMP14', 'WNT5A', 'BAD', 'HDAC9', 'EZH2', 'CDKN1A', 'TCF3', 'THBS2', 'SYT1', 'ZMIZ1', 'NRG1', 'JARID2', 'TP53', 'FADD', 'NUMB', 'TRBV20OR9-2', 'GORASP1', 'CISH', 'FOXO3', 'CD24', 'FABP7', 'GABPA', 'BAX', 'HAO1', 'KAT5', 'EGFR', 'RND3', 'CYTOR', 'PRDX2', 'BCL11B', 'TP63', 'MIR449A', 'KMT2A', 'KRT19', 'CKAP4', 'FBXW7', 'CCL2', 'KLF4', 'PIN1', 'RNPC3', 'VEGFA', 'FGF2', 'LYL1', 'CSHL1', 'MYC', 'PSEN1', 'RHOU', 'SP3', 'MIR455', 'MYCN', 'APBB1', 'CRB1', 'MFAP1', 'MIR34A', 'NCSTN', 'ABCB6', 'NALT1', 'COL11A2', 'SF3B1', 'HEY2', 'POFUT1', 'KAT2A', 'NBEA', 'BLOC1S2', 'TBX21', 'IL2RA', 'INSL3', 'ISG20', 'ITGA4', 'MIR30A', 'NEDD4', 'GMNN', 'PIK3CB', 'PIM1', 'WNT4', 'LARP6', 'WDR12', 'PTEN', 'RBP1', 'H3P16', 'DLK2', 'STAT6', 'TNF', 'DDR1', 'TCF7L1', 'KCTD10', 'CARD11', 'RUNX2', 'TNFRSF10B', 'KAT2B', 'CD4', 'TCEAL1', 'CD40', 'LRIG2', 'ERBB2', 'CDKN2A', 'ABCC1', 'TLX1', 'MSLN', 'BCL10', 'ALPL', 'RELN', 'TBXT', 'DUSP22', 'CTDSPL', 'PRMT5', 'KHDRBS1', 'WWP1', 'LINC00261', 'EPHB1', 'ATOH7', 'FOXM1', 'NUP62', 'MTOR', 'FOXI3', 'STRA8', 'AR', 'KRT3', 'MFNG', 'MYB', 'SYCP3', 'DCTN4', 'PGR', 'POU5F1', 'MEG3', 'PROX1', 'MIB1', 'ROCK1', 'NEUROG2', 'NIBAN2', 'SLC6A2', 'TAL1', 'TGFB1', 'TRAF1', 'PROM1', 'DCLK1', 'HRAS', 'ERG', 'ERBB3', 'FURIN', 'SIRT3', 'PDGFD', 'DUSP1'))"
      ]
     },
     "execution_count": 50,
     "metadata": {},
     "output_type": "execute_result"
    }
   ],
   "source": [
    "seqd.G.nodes()"
   ]
  },
  {
   "cell_type": "code",
   "execution_count": 51,
   "metadata": {},
   "outputs": [
    {
     "data": {
      "text/plain": [
       "AtlasView({0: {'info': {'bts:hgnc': ['2910'], 'bts:taxid': ['NCBITaxon:9606'], 'bts:source': ['https://data.monarchinitiative.org/ttl/string.ttl'], '@type': 'Gene', '$input': 'bts:entrez', '$source': 'biolink'}, 'label': 'bts:molecularlyInteractsWith', 'source': 'biolink'}})"
      ]
     },
     "execution_count": 51,
     "metadata": {},
     "output_type": "execute_result"
    }
   ],
   "source": [
    "seqd.G['4851']['DLL4']"
   ]
  },
  {
   "cell_type": "code",
   "execution_count": 53,
   "metadata": {},
   "outputs": [
    {
     "data": {
      "text/plain": [
       "AtlasView({0: {'info': {'bts:hgnc': ['620'], 'bts:taxid': ['NCBITaxon:9606'], 'bts:source': ['https://data.monarchinitiative.org/ttl/biogrid.ttl', 'https://data.monarchinitiative.org/ttl/string.ttl'], '@type': 'Gene', '$input': 'bts:entrez', '$source': 'biolink'}, 'label': 'bts:molecularlyInteractsWith', 'source': 'biolink'}, 1: {'info': {'bts:umls': ['C1364818'], 'bts:pubmed': ['16126912', '28562688'], '@type': 'Gene', '$input': 'bts:umls', '$source': 'semmed'}, 'label': 'bts:molecularlyInteractsWith', 'source': 'semmed'}})"
      ]
     },
     "execution_count": 53,
     "metadata": {},
     "output_type": "execute_result"
    }
   ],
   "source": [
    "seqd.G['4851']['APP']"
   ]
  },
  {
   "cell_type": "markdown",
   "metadata": {},
   "source": [
    "NOTCH1 -> Adams-Oliver Syndrome"
   ]
  },
  {
   "cell_type": "code",
   "execution_count": 54,
   "metadata": {},
   "outputs": [],
   "source": [
    "seqd = SingleEdgeQueryDispatcher(input_obj=input_obj, output_cls=\"DiseaseOrPhenotypicFeature\", registry=reg)"
   ]
  },
  {
   "cell_type": "code",
   "execution_count": 55,
   "metadata": {},
   "outputs": [],
   "source": [
    "seqd.query()"
   ]
  },
  {
   "cell_type": "code",
   "execution_count": 56,
   "metadata": {},
   "outputs": [
    {
     "data": {
      "text/plain": [
       "NodeView(('4851', 'MONDO:0005011', 'MONDO:0005083', 'MONDO:0005265', 'MONDO:0005306', 'MONDO:0005148', 'MONDO:0018646', 'MONDO:0005101', 'MONDO:0024523', 'MONDO:0007034', 'MONDO:0014459', 'MONDO:0007194', 'C1860844', 'C0018824', 'C1510497', 'C0038002', 'C0007621', 'C0265594', 'C0263401', 'C0221373', 'C0149630', 'C1839829', 'C3164374', 'C3887892', 'C1833225', 'C0265908', 'C0751396', 'C2750850', 'C1621958', 'C0017636', 'C1514422', 'C0038379', 'C1850667', 'C1969343', 'C3714844', 'C4280808', 'C0376634', 'C4280596', 'C1866210', 'C0221352', 'C1837770', 'C4025787', 'C0231246', 'C1837514', 'C4280625', 'C1335302', 'C0887833', 'C4280595', 'C4021785', 'C3553754', 'C2315100', 'C0003507', 'C3552713', 'C0162770', 'C1301937', 'C1839039', 'C0265989', 'C0000768', 'C0687133', 'C0751214', 'C1520166', 'C0242379', 'C1155266', 'C1518294', 'C1519606', 'C0027651', 'C0178874', 'C0520759', 'C0596263', 'C0242596', 'C1504598', 'C1516170', 'C0027055', 'C0151763', 'C0586362', 'C1519494', 'C0023434', 'C0037284', 'C0221198', 'C0853897', 'C0151686', 'C0278252', 'C0458247', 'C1512195', 'C1519670', 'C0702120', 'C0242184', 'C0221270', 'C0342649', 'C0699748', 'C0277785', 'MONDO:0003175', 'MONDO:0004971', 'MONDO:0005071', 'MONDO:0017424', 'MONDO:0021004', 'MONDO:0019781', 'MONDO:0024498', 'MONDO:0020512', 'MONDO:0004963', 'MONDO:0002869', 'MONDO:0007254', 'MONDO:0021100', 'MONDO:0015868', 'MONDO:0005401', 'MONDO:0002974', 'MONDO:0021230', 'MONDO:0016274', 'MONDO:0019530', 'MONDO:0021002', 'MONDO:0003803', 'MONDO:0002278', 'MONDO:0003161', 'MONDO:0003266', 'MONDO:0016698', 'MONDO:0018177', 'MONDO:0003432', 'MONDO:0002123', 'MONDO:0008542', 'MONDO:0024533', 'MONDO:0008347', 'MONDO:0001999', 'MONDO:0017147', 'MONDO:0015924', 'MONDO:0003155', 'MONDO:0024506', 'MONDO:0020224', 'MONDO:0005129', 'MONDO:0005525', 'MONDO:0005580', 'MONDO:0005184', 'MONDO:0001150', 'MONDO:0005062', 'MONDO:0005149', 'MONDO:0005392', 'MONDO:0009938', 'MONDO:0015870', 'MONDO:0004978', 'MONDO:0009360', 'MONDO:0007145', 'MONDO:0021129', 'MONDO:0005059', 'MONDO:0000390', 'MONDO:0018842', 'MONDO:0015447', 'MONDO:0005105', 'MONDO:0015909', 'MONDO:0000500', 'MONDO:0005096', 'MONDO:0004169', 'MONDO:0021042', 'MONDO:0018531', 'MONDO:0002771', 'MONDO:0004992', 'MONDO:0005132', 'MONDO:0019722'))"
      ]
     },
     "execution_count": 56,
     "metadata": {},
     "output_type": "execute_result"
    }
   ],
   "source": [
    "seqd.G.nodes()"
   ]
  },
  {
   "cell_type": "code",
   "execution_count": 57,
   "metadata": {},
   "outputs": [
    {
     "data": {
      "text/plain": [
       "AtlasView({0: {'info': {'bts:mondo': ['MONDO:0007034'], 'bts:source': ['https://data.monarchinitiative.org/ttl/omim.ttl', 'https://data.monarchinitiative.org/ttl/orphanet.ttl'], '@type': 'DiseaseOrPhenotypicFeature', '$input': 'bts:entrez', '$source': 'biolink'}, 'label': 'bts:associatedWith', 'source': 'biolink'}, 1: {'info': {'@type': 'DiseaseOrPhenotypicFeature', 'bts:umls': ['C0265268'], '$source': 'mydisease.info'}, 'label': 'bts:associatedWith', 'source': 'mydisease.info'}})"
      ]
     },
     "execution_count": 57,
     "metadata": {},
     "output_type": "execute_result"
    }
   ],
   "source": [
    "seqd.G['4851']['MONDO:0007034']"
   ]
  },
  {
   "cell_type": "markdown",
   "metadata": {},
   "source": [
    "RBPJ -> Adams-Oliver Syndrome"
   ]
  },
  {
   "cell_type": "code",
   "execution_count": 58,
   "metadata": {},
   "outputs": [
    {
     "data": {
      "text/plain": [
       "{'Gene': [{'entrez': '3516',\n",
       "   'name': 'recombination signal binding protein for immunoglobulin kappa J region',\n",
       "   'symbol': 'RBPJ',\n",
       "   'taxonomy': 9606,\n",
       "   'umls': 'C1416171',\n",
       "   'display': 'entrez(3516) name(recombination signal binding protein for immunoglobulin kappa J region) symbol(RBPJ) taxonomy(9606) umls(C1416171) ',\n",
       "   'type': 'Gene',\n",
       "   'primary': {'identifier': 'entrez', 'cls': 'Gene', 'value': '3516'}},\n",
       "  {'entrez': '19664',\n",
       "   'name': 'recombination signal binding protein for immunoglobulin kappa J region',\n",
       "   'symbol': 'Rbpj',\n",
       "   'taxonomy': 10090,\n",
       "   'display': 'entrez(19664) name(recombination signal binding protein for immunoglobulin kappa J region) symbol(Rbpj) taxonomy(10090) ',\n",
       "   'type': 'Gene',\n",
       "   'primary': {'identifier': 'entrez', 'cls': 'Gene', 'value': '19664'}},\n",
       "  {'entrez': '679028',\n",
       "   'name': 'recombination signal binding protein for immunoglobulin kappa J region',\n",
       "   'symbol': 'Rbpj',\n",
       "   'taxonomy': 10116,\n",
       "   'display': 'entrez(679028) name(recombination signal binding protein for immunoglobulin kappa J region) symbol(Rbpj) taxonomy(10116) ',\n",
       "   'type': 'Gene',\n",
       "   'primary': {'identifier': 'entrez', 'cls': 'Gene', 'value': '679028'}},\n",
       "  {'entrez': '106840442',\n",
       "   'name': 'recombination signal binding protein for immunoglobulin kappa J region',\n",
       "   'symbol': 'RBPJ',\n",
       "   'taxonomy': 9793,\n",
       "   'display': 'entrez(106840442) name(recombination signal binding protein for immunoglobulin kappa J region) symbol(RBPJ) taxonomy(9793) ',\n",
       "   'type': 'Gene',\n",
       "   'primary': {'identifier': 'entrez', 'cls': 'Gene', 'value': '106840442'}},\n",
       "  {'entrez': '108406893',\n",
       "   'name': 'recombination signal binding protein for immunoglobulin kappa J region',\n",
       "   'symbol': 'RBPJ',\n",
       "   'taxonomy': 9974,\n",
       "   'display': 'entrez(108406893) name(recombination signal binding protein for immunoglobulin kappa J region) symbol(RBPJ) taxonomy(9974) ',\n",
       "   'type': 'Gene',\n",
       "   'primary': {'identifier': 'entrez', 'cls': 'Gene', 'value': '108406893'}}],\n",
       " 'SequenceVariant': [],\n",
       " 'ChemicalSubstance': [],\n",
       " 'DiseaseOrPhenotypicFeature': [],\n",
       " 'Pathway': [],\n",
       " 'MolecularFunction': [],\n",
       " 'CellularComponent': [],\n",
       " 'BiologicalProcess': [],\n",
       " 'Anatomy': [],\n",
       " 'PhenotypicFeature': []}"
      ]
     },
     "execution_count": 58,
     "metadata": {},
     "output_type": "execute_result"
    }
   ],
   "source": [
    "ht.query(\"RBPJ\")"
   ]
  },
  {
   "cell_type": "code",
   "execution_count": 59,
   "metadata": {},
   "outputs": [],
   "source": [
    "input_obj = _58['Gene'][0]"
   ]
  },
  {
   "cell_type": "code",
   "execution_count": 60,
   "metadata": {},
   "outputs": [],
   "source": [
    "seqd = SingleEdgeQueryDispatcher(input_obj=input_obj, output_cls='DiseaseOrPhenotypicFeature', registry=reg)"
   ]
  },
  {
   "cell_type": "code",
   "execution_count": 61,
   "metadata": {},
   "outputs": [],
   "source": [
    "seqd.query()"
   ]
  },
  {
   "cell_type": "code",
   "execution_count": 62,
   "metadata": {},
   "outputs": [
    {
     "data": {
      "text/plain": [
       "NodeView(('3516', 'MONDO:0007034', 'MONDO:0013895', 'C1860844', 'C1510497', 'C0265594', 'C0263401', 'C0221373', 'C1839829', 'C3164374', 'C0265908', 'C0038379', 'C4280808', 'C4280596', 'C0221352', 'C1837770', 'C4025787', 'C0231246', 'C4280625', 'C4280595', 'C0432040', 'C4021785', 'C3553754', 'C2315100', 'C3552713', 'C1849020', 'C0424688', 'C1301937', 'C0265989', 'MONDO:0017424', 'MONDO:0021004', 'MONDO:0015305', 'MONDO:0005133', 'MONDO:0008383', 'MONDO:0003432', 'MONDO:0008542', 'MONDO:0024506', 'MONDO:0020224', 'MONDO:0005129', 'MONDO:0001150', 'MONDO:0009360', 'MONDO:0007145', 'MONDO:0021129'))"
      ]
     },
     "execution_count": 62,
     "metadata": {},
     "output_type": "execute_result"
    }
   ],
   "source": [
    "seqd.G.nodes()"
   ]
  },
  {
   "cell_type": "code",
   "execution_count": 63,
   "metadata": {},
   "outputs": [
    {
     "data": {
      "text/plain": [
       "AtlasView({0: {'info': {'bts:mondo': ['MONDO:0007034'], 'bts:source': ['https://data.monarchinitiative.org/ttl/omim.ttl', 'https://data.monarchinitiative.org/ttl/orphanet.ttl'], '@type': 'DiseaseOrPhenotypicFeature', '$input': 'bts:entrez', '$source': 'biolink'}, 'label': 'bts:associatedWith', 'source': 'biolink'}, 1: {'info': {'@type': 'DiseaseOrPhenotypicFeature', 'bts:umls': ['C0265268'], '$source': 'mydisease.info'}, 'label': 'bts:associatedWith', 'source': 'mydisease.info'}})"
      ]
     },
     "execution_count": 63,
     "metadata": {},
     "output_type": "execute_result"
    }
   ],
   "source": [
    "seqd.G['3516']['MONDO:0007034']"
   ]
  }
 ],
 "metadata": {
  "kernelspec": {
   "display_name": "Python 3",
   "language": "python",
   "name": "python3"
  },
  "language_info": {
   "codemirror_mode": {
    "name": "ipython",
    "version": 3
   },
   "file_extension": ".py",
   "mimetype": "text/x-python",
   "name": "python",
   "nbconvert_exporter": "python",
   "pygments_lexer": "ipython3",
   "version": "3.7.3"
  }
 },
 "nbformat": 4,
 "nbformat_minor": 2
}
