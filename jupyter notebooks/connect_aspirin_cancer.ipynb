{
 "cells": [
  {
   "cell_type": "code",
   "execution_count": 2,
   "metadata": {},
   "outputs": [],
   "source": [
    "from biothings_explorer.registry import Registry"
   ]
  },
  {
   "cell_type": "code",
   "execution_count": 3,
   "metadata": {},
   "outputs": [],
   "source": [
    "reg = Registry()"
   ]
  },
  {
   "cell_type": "code",
   "execution_count": 1,
   "metadata": {},
   "outputs": [],
   "source": [
    "from biothings_explorer.hint import Hint\n",
    "ht = Hint()"
   ]
  },
  {
   "cell_type": "code",
   "execution_count": 168,
   "metadata": {},
   "outputs": [
    {
     "data": {
      "text/plain": [
       "{'Gene': [{'entrez': '450093',\n",
       "   'name': 'Lung cancer 1',\n",
       "   'symbol': 'LNCR1',\n",
       "   'taxonomy': 9606,\n",
       "   'display': 'entrez(450093) name(Lung cancer 1) symbol(LNCR1) taxonomy(9606) ',\n",
       "   'type': 'Gene',\n",
       "   'primary': {'identifier': 'entrez', 'cls': 'Gene', 'value': '450093'}},\n",
       "  {'entrez': '103021165',\n",
       "   'name': 'cancer susceptibility 19',\n",
       "   'symbol': 'CASC19',\n",
       "   'taxonomy': 9606,\n",
       "   'umls': 'C3813046',\n",
       "   'display': 'entrez(103021165) name(cancer susceptibility 19) symbol(CASC19) taxonomy(9606) umls(C3813046) ',\n",
       "   'type': 'Gene',\n",
       "   'primary': {'identifier': 'entrez', 'cls': 'Gene', 'value': '103021165'}},\n",
       "  {'entrez': '60500',\n",
       "   'name': 'breast cancer 3',\n",
       "   'symbol': 'BRCA3',\n",
       "   'taxonomy': 9606,\n",
       "   'umls': 'C1332438',\n",
       "   'display': 'entrez(60500) name(breast cancer 3) symbol(BRCA3) taxonomy(9606) umls(C1332438) ',\n",
       "   'type': 'Gene',\n",
       "   'primary': {'identifier': 'entrez', 'cls': 'Gene', 'value': '60500'}},\n",
       "  {'name': 'cancer susceptibility 15',\n",
       "   'symbol': 'CASC15',\n",
       "   'taxonomy': 9606,\n",
       "   'display': 'name(cancer susceptibility 15) symbol(CASC15) taxonomy(9606) ',\n",
       "   'type': 'Gene',\n",
       "   'primary': {'identifier': 'symbol', 'cls': 'Gene', 'value': 'CASC15'}},\n",
       "  {'entrez': '101929083',\n",
       "   'name': 'cancer susceptibility 6',\n",
       "   'symbol': 'CASC6',\n",
       "   'taxonomy': 9606,\n",
       "   'umls': 'C3811550',\n",
       "   'display': 'entrez(101929083) name(cancer susceptibility 6) symbol(CASC6) taxonomy(9606) umls(C3811550) ',\n",
       "   'type': 'Gene',\n",
       "   'primary': {'identifier': 'entrez', 'cls': 'Gene', 'value': '101929083'}}],\n",
       " 'SequenceVariant': [],\n",
       " 'ChemicalSubstance': [{'name': 'GVAX prostate cancer vaccine',\n",
       "   'umls': 'C0796615',\n",
       "   'display': 'name(GVAX prostate cancer vaccine) umls(C0796615) ',\n",
       "   'type': 'ChemicalSubstance',\n",
       "   'primary': {'identifier': 'umls',\n",
       "    'cls': 'ChemicalSubstance',\n",
       "    'value': 'C0796615'}},\n",
       "  {'name': 'anti-cancer number one',\n",
       "   'umls': 'C1121049',\n",
       "   'display': 'name(anti-cancer number one) umls(C1121049) ',\n",
       "   'type': 'ChemicalSubstance',\n",
       "   'primary': {'identifier': 'umls',\n",
       "    'cls': 'ChemicalSubstance',\n",
       "    'value': 'C1121049'}},\n",
       "  {'name': 'allogeneic GM-CSF-secreting breast cancer vaccine',\n",
       "   'umls': 'C1541366',\n",
       "   'display': 'name(allogeneic GM-CSF-secreting breast cancer vaccine) umls(C1541366) ',\n",
       "   'type': 'ChemicalSubstance',\n",
       "   'primary': {'identifier': 'umls',\n",
       "    'cls': 'ChemicalSubstance',\n",
       "    'value': 'C1541366'}}],\n",
       " 'DiseaseOrPhenotypicFeature': [{'mondo': 'C0677898',\n",
       "   'name': 'invasive cancer',\n",
       "   'display': 'mondo(C0677898) name(invasive cancer) ',\n",
       "   'type': 'DiseaseOrPhenotypicFeature',\n",
       "   'primary': {'identifier': 'mondo',\n",
       "    'cls': 'DiseaseOrPhenotypicFeature',\n",
       "    'value': 'C0677898'}},\n",
       "  {'mondo': 'MONDO:0005806',\n",
       "   'doid': 'DOID:8533',\n",
       "   'umls': 'C0496770',\n",
       "   'mesh': 'D007012',\n",
       "   'name': 'hypopharynx cancer',\n",
       "   'display': 'mondo(MONDO:0005806) doid(DOID:8533) umls(C0496770) mesh(D007012) name(hypopharynx cancer) ',\n",
       "   'type': 'DiseaseOrPhenotypicFeature',\n",
       "   'primary': {'identifier': 'mondo',\n",
       "    'cls': 'DiseaseOrPhenotypicFeature',\n",
       "    'value': 'MONDO:0005806'}},\n",
       "  {'mondo': 'MONDO:0005216',\n",
       "   'umls': 'C0153398',\n",
       "   'name': 'hypopharyngeal carcinoma',\n",
       "   'display': 'mondo(MONDO:0005216) umls(C0153398) name(hypopharyngeal carcinoma) ',\n",
       "   'type': 'DiseaseOrPhenotypicFeature',\n",
       "   'primary': {'identifier': 'mondo',\n",
       "    'cls': 'DiseaseOrPhenotypicFeature',\n",
       "    'value': 'MONDO:0005216'}},\n",
       "  {'mondo': 'C4048328',\n",
       "   'name': 'cervical cancer',\n",
       "   'display': 'mondo(C4048328) name(cervical cancer) ',\n",
       "   'type': 'DiseaseOrPhenotypicFeature',\n",
       "   'primary': {'identifier': 'mondo',\n",
       "    'cls': 'DiseaseOrPhenotypicFeature',\n",
       "    'value': 'C4048328'}},\n",
       "  {'mondo': 'C0677936',\n",
       "   'name': 'Refractory cancer',\n",
       "   'display': 'mondo(C0677936) name(Refractory cancer) ',\n",
       "   'type': 'DiseaseOrPhenotypicFeature',\n",
       "   'primary': {'identifier': 'mondo',\n",
       "    'cls': 'DiseaseOrPhenotypicFeature',\n",
       "    'value': 'C0677936'}}],\n",
       " 'Pathway': [{'name': 'Endometrial cancer',\n",
       "   'wikipathways': 'WP4155',\n",
       "   'display': 'name(Endometrial cancer) wikipathways(WP4155) ',\n",
       "   'type': 'Pathway',\n",
       "   'primary': {'identifier': 'wikipathways',\n",
       "    'cls': 'Pathway',\n",
       "    'value': 'WP4155'}},\n",
       "  {'name': 'Bladder Cancer',\n",
       "   'wikipathways': 'WP2828',\n",
       "   'display': 'name(Bladder Cancer) wikipathways(WP2828) ',\n",
       "   'type': 'Pathway',\n",
       "   'primary': {'identifier': 'wikipathways',\n",
       "    'cls': 'Pathway',\n",
       "    'value': 'WP2828'}},\n",
       "  {'name': 'Integrated Breast Cancer Pathway',\n",
       "   'wikipathways': 'WP1984',\n",
       "   'display': 'name(Integrated Breast Cancer Pathway) wikipathways(WP1984) ',\n",
       "   'type': 'Pathway',\n",
       "   'primary': {'identifier': 'wikipathways',\n",
       "    'cls': 'Pathway',\n",
       "    'value': 'WP1984'}},\n",
       "  {'name': 'Glutaminolysis and Cancer',\n",
       "   'display': 'name(Glutaminolysis and Cancer) ',\n",
       "   'type': 'Pathway',\n",
       "   'primary': {'identifier': 'name',\n",
       "    'cls': 'Pathway',\n",
       "    'value': 'Glutaminolysis and Cancer'}},\n",
       "  {'name': 'Integrated Cancer Pathway',\n",
       "   'wikipathways': 'WP1971',\n",
       "   'display': 'name(Integrated Cancer Pathway) wikipathways(WP1971) ',\n",
       "   'type': 'Pathway',\n",
       "   'primary': {'identifier': 'wikipathways',\n",
       "    'cls': 'Pathway',\n",
       "    'value': 'WP1971'}}],\n",
       " 'MolecularFunction': [],\n",
       " 'CellularComponent': [],\n",
       " 'BiologicalProcess': [],\n",
       " 'Anatomy': [],\n",
       " 'PhenotypicFeature': []}"
      ]
     },
     "execution_count": 168,
     "metadata": {},
     "output_type": "execute_result"
    }
   ],
   "source": [
    "ht.query(\"cancer\")"
   ]
  },
  {
   "cell_type": "code",
   "execution_count": 173,
   "metadata": {},
   "outputs": [
    {
     "data": {
      "text/plain": [
       "{'Gene': [{'entrez': '239',\n",
       "   'name': 'arachidonate 12-lipoxygenase, 12S type',\n",
       "   'symbol': 'ALOX12',\n",
       "   'taxonomy': 9606,\n",
       "   'umls': 'C1412356',\n",
       "   'display': 'entrez(239) name(arachidonate 12-lipoxygenase, 12S type) symbol(ALOX12) taxonomy(9606) umls(C1412356) ',\n",
       "   'type': 'Gene',\n",
       "   'primary': {'identifier': 'entrez', 'cls': 'Gene', 'value': '239'}},\n",
       "  {'entrez': '11684',\n",
       "   'name': 'arachidonate 12-lipoxygenase',\n",
       "   'symbol': 'Alox12',\n",
       "   'taxonomy': 10090,\n",
       "   'display': 'entrez(11684) name(arachidonate 12-lipoxygenase) symbol(Alox12) taxonomy(10090) ',\n",
       "   'type': 'Gene',\n",
       "   'primary': {'identifier': 'entrez', 'cls': 'Gene', 'value': '11684'}},\n",
       "  {'entrez': '113907925',\n",
       "   'name': 'arachidonate 12-lipoxygenase, 12S type',\n",
       "   'symbol': 'ALOX12',\n",
       "   'taxonomy': 9704,\n",
       "   'display': 'entrez(113907925) name(arachidonate 12-lipoxygenase, 12S type) symbol(ALOX12) taxonomy(9704) ',\n",
       "   'type': 'Gene',\n",
       "   'primary': {'identifier': 'entrez', 'cls': 'Gene', 'value': '113907925'}},\n",
       "  {'entrez': '105291977',\n",
       "   'name': 'arachidonate 12-lipoxygenase, 12S type',\n",
       "   'symbol': 'ALOX12',\n",
       "   'taxonomy': 132908,\n",
       "   'display': 'entrez(105291977) name(arachidonate 12-lipoxygenase, 12S type) symbol(ALOX12) taxonomy(132908) ',\n",
       "   'type': 'Gene',\n",
       "   'primary': {'identifier': 'entrez', 'cls': 'Gene', 'value': '105291977'}},\n",
       "  {'entrez': '100471037',\n",
       "   'name': 'arachidonate 12-lipoxygenase, 12S type',\n",
       "   'symbol': 'ALOX12',\n",
       "   'taxonomy': 9646,\n",
       "   'display': 'entrez(100471037) name(arachidonate 12-lipoxygenase, 12S type) symbol(ALOX12) taxonomy(9646) ',\n",
       "   'type': 'Gene',\n",
       "   'primary': {'identifier': 'entrez', 'cls': 'Gene', 'value': '100471037'}}],\n",
       " 'SequenceVariant': [],\n",
       " 'ChemicalSubstance': [],\n",
       " 'DiseaseOrPhenotypicFeature': [],\n",
       " 'Pathway': [],\n",
       " 'MolecularFunction': [],\n",
       " 'CellularComponent': [],\n",
       " 'BiologicalProcess': [],\n",
       " 'Anatomy': [],\n",
       " 'PhenotypicFeature': []}"
      ]
     },
     "execution_count": 173,
     "metadata": {},
     "output_type": "execute_result"
    }
   ],
   "source": [
    "ht.query(\"ALOX12\")"
   ]
  },
  {
   "cell_type": "code",
   "execution_count": 169,
   "metadata": {},
   "outputs": [
    {
     "data": {
      "text/plain": [
       "{'entrez': '4513',\n",
       " 'name': 'cytochrome c oxidase subunit II',\n",
       " 'symbol': 'COX2',\n",
       " 'taxonomy': 9606,\n",
       " 'umls': 'C1537986',\n",
       " 'display': 'entrez(4513) name(cytochrome c oxidase subunit II) symbol(COX2) taxonomy(9606) umls(C1537986) ',\n",
       " 'type': 'Gene',\n",
       " 'primary': {'identifier': 'entrez', 'cls': 'Gene', 'value': '4513'}}"
      ]
     },
     "execution_count": 169,
     "metadata": {},
     "output_type": "execute_result"
    }
   ],
   "source": [
    "output_obj"
   ]
  },
  {
   "cell_type": "code",
   "execution_count": 170,
   "metadata": {},
   "outputs": [
    {
     "data": {
      "text/plain": [
       "{'entrez': '239',\n",
       " 'name': 'arachidonate 12-lipoxygenase, 12S type',\n",
       " 'symbol': 'ALOX12',\n",
       " 'taxonomy': 9606,\n",
       " 'umls': 'C1412356',\n",
       " 'display': 'entrez(239) name(arachidonate 12-lipoxygenase, 12S type) symbol(ALOX12) taxonomy(9606) umls(C1412356) ',\n",
       " 'type': 'Gene',\n",
       " 'primary': {'identifier': 'entrez', 'cls': 'Gene', 'value': '239'}}"
      ]
     },
     "execution_count": 170,
     "metadata": {},
     "output_type": "execute_result"
    }
   ],
   "source": [
    "input_obj"
   ]
  },
  {
   "cell_type": "code",
   "execution_count": 171,
   "metadata": {},
   "outputs": [],
   "source": [
    "# CONNECT BETWEEN ALOX12 -> CANCER\n",
    "fc = FindConnection(input_obj, output_obj, registry=reg)"
   ]
  },
  {
   "cell_type": "code",
   "execution_count": 172,
   "metadata": {},
   "outputs": [
    {
     "name": "stdout",
     "output_type": "stream",
     "text": [
      "start to query from entrez:239\n",
      "1st query completed\n",
      "start to query from entrez:4513\n",
      "2nd query completed\n",
      "completed!\n"
     ]
    }
   ],
   "source": [
    "fc.connect()"
   ]
  },
  {
   "cell_type": "code",
   "execution_count": 174,
   "metadata": {},
   "outputs": [
    {
     "data": {
      "text/plain": [
       "[['239', 'UBERON:0000468', '4513'],\n",
       " ['239', 'UBERON:0001013', '4513'],\n",
       " ['239', 'UBERON:0000945', '4513'],\n",
       " ['239', 'UBERON:0001871', '4513'],\n",
       " ['239', 'UBERON:0002113', '4513'],\n",
       " ['239', 'GO:0005515', '4513'],\n",
       " ['239', 'GO:0016020', '4513'],\n",
       " ['239', 'R-HSA-1430728', '4513'],\n",
       " ['239', 'C1422009', '4513'],\n",
       " ['239', 'C1424677', '4513'],\n",
       " ['239', 'C3811802', '4513']]"
      ]
     },
     "execution_count": 174,
     "metadata": {},
     "output_type": "execute_result"
    }
   ],
   "source": [
    "fc.show_path()"
   ]
  },
  {
   "cell_type": "markdown",
   "metadata": {},
   "source": [
    "## 5-lipoxygenase -> CANCER"
   ]
  },
  {
   "cell_type": "code",
   "execution_count": 175,
   "metadata": {},
   "outputs": [
    {
     "data": {
      "text/plain": [
       "{'Gene': [{'entrez': '240',\n",
       "   'name': 'arachidonate 5-lipoxygenase',\n",
       "   'symbol': 'ALOX5',\n",
       "   'taxonomy': 9606,\n",
       "   'umls': 'C1412361',\n",
       "   'display': 'entrez(240) name(arachidonate 5-lipoxygenase) symbol(ALOX5) taxonomy(9606) umls(C1412361) ',\n",
       "   'type': 'Gene',\n",
       "   'primary': {'identifier': 'entrez', 'cls': 'Gene', 'value': '240'}},\n",
       "  {'entrez': '11689',\n",
       "   'name': 'arachidonate 5-lipoxygenase',\n",
       "   'symbol': 'Alox5',\n",
       "   'taxonomy': 10090,\n",
       "   'display': 'entrez(11689) name(arachidonate 5-lipoxygenase) symbol(Alox5) taxonomy(10090) ',\n",
       "   'type': 'Gene',\n",
       "   'primary': {'identifier': 'entrez', 'cls': 'Gene', 'value': '11689'}},\n",
       "  {'entrez': '241',\n",
       "   'name': 'arachidonate 5-lipoxygenase activating protein',\n",
       "   'symbol': 'ALOX5AP',\n",
       "   'taxonomy': 9606,\n",
       "   'umls': 'C1412362',\n",
       "   'display': 'entrez(241) name(arachidonate 5-lipoxygenase activating protein) symbol(ALOX5AP) taxonomy(9606) umls(C1412362) ',\n",
       "   'type': 'Gene',\n",
       "   'primary': {'identifier': 'entrez', 'cls': 'Gene', 'value': '241'}},\n",
       "  {'entrez': '102577615',\n",
       "   'name': '5-lipoxygenase',\n",
       "   'symbol': 'LOC102577615',\n",
       "   'taxonomy': 4113,\n",
       "   'display': 'entrez(102577615) name(5-lipoxygenase) symbol(LOC102577615) taxonomy(4113) ',\n",
       "   'type': 'Gene',\n",
       "   'primary': {'identifier': 'entrez', 'cls': 'Gene', 'value': '102577615'}},\n",
       "  {'entrez': '25290',\n",
       "   'name': 'arachidonate 5-lipoxygenase',\n",
       "   'symbol': 'Alox5',\n",
       "   'taxonomy': 10116,\n",
       "   'display': 'entrez(25290) name(arachidonate 5-lipoxygenase) symbol(Alox5) taxonomy(10116) ',\n",
       "   'type': 'Gene',\n",
       "   'primary': {'identifier': 'entrez', 'cls': 'Gene', 'value': '25290'}}],\n",
       " 'SequenceVariant': [],\n",
       " 'ChemicalSubstance': [{'name': 'Arachidonate 5-Lipoxygenase Inhibitors',\n",
       "   'umls': 'C1289971',\n",
       "   'display': 'name(Arachidonate 5-Lipoxygenase Inhibitors) umls(C1289971) ',\n",
       "   'type': 'ChemicalSubstance',\n",
       "   'primary': {'identifier': 'umls',\n",
       "    'cls': 'ChemicalSubstance',\n",
       "    'value': 'C1289971'}}],\n",
       " 'DiseaseOrPhenotypicFeature': [],\n",
       " 'Pathway': [{'name': '5-Oxoprolinuria',\n",
       "   'display': 'name(5-Oxoprolinuria) ',\n",
       "   'type': 'Pathway',\n",
       "   'primary': {'identifier': 'name',\n",
       "    'cls': 'Pathway',\n",
       "    'value': '5-Oxoprolinuria'}},\n",
       "  {'name': '5-oxoprolinase deficiency',\n",
       "   'display': 'name(5-oxoprolinase deficiency) ',\n",
       "   'type': 'Pathway',\n",
       "   'primary': {'identifier': 'name',\n",
       "    'cls': 'Pathway',\n",
       "    'value': '5-oxoprolinase deficiency'}},\n",
       "  {'name': 'uridine-5,-phosphate biosynthesis',\n",
       "   'display': 'name(uridine-5,-phosphate biosynthesis) ',\n",
       "   'type': 'Pathway',\n",
       "   'primary': {'identifier': 'name',\n",
       "    'cls': 'Pathway',\n",
       "    'value': 'uridine-5,-phosphate biosynthesis'}},\n",
       "  {'name': 'pyridoxal 5,-phosphate salvage',\n",
       "   'display': 'name(pyridoxal 5,-phosphate salvage) ',\n",
       "   'type': 'Pathway',\n",
       "   'primary': {'identifier': 'name',\n",
       "    'cls': 'Pathway',\n",
       "    'value': 'pyridoxal 5,-phosphate salvage'}},\n",
       "  {'name': 'IL-5 Signaling Pathway',\n",
       "   'wikipathways': 'WP151',\n",
       "   'display': 'name(IL-5 Signaling Pathway) wikipathways(WP151) ',\n",
       "   'type': 'Pathway',\n",
       "   'primary': {'identifier': 'wikipathways',\n",
       "    'cls': 'Pathway',\n",
       "    'value': 'WP151'}}],\n",
       " 'MolecularFunction': [{'name': 'arachidonate 5-lipoxygenase activity',\n",
       "   'go': 'GO:0004051',\n",
       "   'display': 'name(arachidonate 5-lipoxygenase activity) go(GO:0004051) ',\n",
       "   'type': 'MolecularFunction',\n",
       "   'primary': {'identifier': 'go',\n",
       "    'cls': 'MolecularFunction',\n",
       "    'value': 'GO:0004051'}},\n",
       "  {'name': 'arachidonate 12-lipoxygenase activity',\n",
       "   'go': 'GO:0004052',\n",
       "   'display': 'name(arachidonate 12-lipoxygenase activity) go(GO:0004052) ',\n",
       "   'type': 'MolecularFunction',\n",
       "   'primary': {'identifier': 'go',\n",
       "    'cls': 'MolecularFunction',\n",
       "    'value': 'GO:0004052'}},\n",
       "  {'name': 'arachidonate 15-lipoxygenase activity',\n",
       "   'go': 'GO:0050473',\n",
       "   'display': 'name(arachidonate 15-lipoxygenase activity) go(GO:0050473) ',\n",
       "   'type': 'MolecularFunction',\n",
       "   'primary': {'identifier': 'go',\n",
       "    'cls': 'MolecularFunction',\n",
       "    'value': 'GO:0050473'}},\n",
       "  {'name': 'linoleate 13S-lipoxygenase activity',\n",
       "   'go': 'GO:0016165',\n",
       "   'display': 'name(linoleate 13S-lipoxygenase activity) go(GO:0016165) ',\n",
       "   'type': 'MolecularFunction',\n",
       "   'primary': {'identifier': 'go',\n",
       "    'cls': 'MolecularFunction',\n",
       "    'value': 'GO:0016165'}},\n",
       "  {'name': 'linoleate 9S-lipoxygenase activity',\n",
       "   'go': 'GO:1990136',\n",
       "   'display': 'name(linoleate 9S-lipoxygenase activity) go(GO:1990136) ',\n",
       "   'type': 'MolecularFunction',\n",
       "   'primary': {'identifier': 'go',\n",
       "    'cls': 'MolecularFunction',\n",
       "    'value': 'GO:1990136'}}],\n",
       " 'CellularComponent': [{'name': 'laminin-5 complex',\n",
       "   'go': 'GO:0005610',\n",
       "   'display': 'name(laminin-5 complex) go(GO:0005610) ',\n",
       "   'type': 'CellularComponent',\n",
       "   'primary': {'identifier': 'go',\n",
       "    'cls': 'CellularComponent',\n",
       "    'value': 'GO:0005610'}},\n",
       "  {'name': 'Chromosomes, Human, Pair 5',\n",
       "   'umls': 'C0008668',\n",
       "   'display': 'name(Chromosomes, Human, Pair 5) umls(C0008668) ',\n",
       "   'type': 'CellularComponent',\n",
       "   'primary': {'identifier': 'umls',\n",
       "    'cls': 'CellularComponent',\n",
       "    'value': 'C0008668'}},\n",
       "  {'name': 'AP-5 adaptor complex',\n",
       "   'go': 'GO:0044599',\n",
       "   'display': 'name(AP-5 adaptor complex) go(GO:0044599) ',\n",
       "   'type': 'CellularComponent',\n",
       "   'primary': {'identifier': 'go',\n",
       "    'cls': 'CellularComponent',\n",
       "    'value': 'GO:0044599'}},\n",
       "  {'name': 'interleukin-5 receptor complex',\n",
       "   'go': 'GO:0005895',\n",
       "   'display': 'name(interleukin-5 receptor complex) go(GO:0005895) ',\n",
       "   'type': 'CellularComponent',\n",
       "   'primary': {'identifier': 'go',\n",
       "    'cls': 'CellularComponent',\n",
       "    'value': 'GO:0005895'}},\n",
       "  {'name': 'Chromosomes, Human, 4-5',\n",
       "   'umls': 'C0008649',\n",
       "   'display': 'name(Chromosomes, Human, 4-5) umls(C0008649) ',\n",
       "   'type': 'CellularComponent',\n",
       "   'primary': {'identifier': 'umls',\n",
       "    'cls': 'CellularComponent',\n",
       "    'value': 'C0008649'}}],\n",
       " 'BiologicalProcess': [{'name': 'arachidonate 5-lipoxygenase activity',\n",
       "   'umls': 'C1151570',\n",
       "   'display': 'name(arachidonate 5-lipoxygenase activity) umls(C1151570) ',\n",
       "   'type': 'BiologicalProcess',\n",
       "   'primary': {'identifier': 'umls',\n",
       "    'cls': 'BiologicalProcess',\n",
       "    'value': 'C1151570'}},\n",
       "  {'name': 'lipoxygenase pathway',\n",
       "   'umls': 'C1157322',\n",
       "   'display': 'name(lipoxygenase pathway) umls(C1157322) ',\n",
       "   'type': 'BiologicalProcess',\n",
       "   'primary': {'identifier': 'umls',\n",
       "    'cls': 'BiologicalProcess',\n",
       "    'value': 'C1157322'}},\n",
       "  {'name': 'lipoxygenase activity',\n",
       "   'umls': 'C1151586',\n",
       "   'display': 'name(lipoxygenase activity) umls(C1151586) ',\n",
       "   'type': 'BiologicalProcess',\n",
       "   'primary': {'identifier': 'umls',\n",
       "    'cls': 'BiologicalProcess',\n",
       "    'value': 'C1151586'}},\n",
       "  {'name': 'lipoxygenase pathway',\n",
       "   'go': 'GO:0019372',\n",
       "   'display': 'name(lipoxygenase pathway) go(GO:0019372) ',\n",
       "   'type': 'BiologicalProcess',\n",
       "   'primary': {'identifier': 'go',\n",
       "    'cls': 'BiologicalProcess',\n",
       "    'value': 'GO:0019372'}},\n",
       "  {'name': 'rhombomere 5 development',\n",
       "   'go': 'GO:0021571',\n",
       "   'display': 'name(rhombomere 5 development) go(GO:0021571) ',\n",
       "   'type': 'BiologicalProcess',\n",
       "   'primary': {'identifier': 'go',\n",
       "    'cls': 'BiologicalProcess',\n",
       "    'value': 'GO:0021571'}}],\n",
       " 'Anatomy': [],\n",
       " 'PhenotypicFeature': []}"
      ]
     },
     "execution_count": 175,
     "metadata": {},
     "output_type": "execute_result"
    }
   ],
   "source": [
    "ht.query(\"5-lipoxygenase\")"
   ]
  },
  {
   "cell_type": "code",
   "execution_count": 180,
   "metadata": {},
   "outputs": [],
   "source": [
    "input_obj = {'entrez': '240',\n",
    "   'name': 'arachidonate 5-lipoxygenase',\n",
    "   'symbol': 'ALOX5',\n",
    "   'taxonomy': 9606,\n",
    "   'umls': 'C1412361',\n",
    "   'display': 'entrez(240) name(arachidonate 5-lipoxygenase) symbol(ALOX5) taxonomy(9606) umls(C1412361) ',\n",
    "   'type': 'Gene',\n",
    "   'primary': {'identifier': 'entrez', 'cls': 'Gene', 'value': '240'}}"
   ]
  },
  {
   "cell_type": "code",
   "execution_count": 181,
   "metadata": {},
   "outputs": [],
   "source": [
    "output_obj = {'mondo': 'MONDO:0004992',\n",
    "   'doid': 'DOID:0050686',\n",
    "   'umls': 'C0006826',\n",
    "   'mesh': 'D009371',\n",
    "   'name': 'cancer',\n",
    "   'display': 'mondo(MONDO:0004992) doid(DOID:0050686) umls(C0006826) mesh(D009371) name(cancer) ',\n",
    "   'type': 'DiseaseOrPhenotypicFeature',\n",
    "   'primary': {'identifier': 'mondo',\n",
    "    'cls': 'DiseaseOrPhenotypicFeature',\n",
    "    'value': 'MONDO:0004992'}}"
   ]
  },
  {
   "cell_type": "code",
   "execution_count": 182,
   "metadata": {},
   "outputs": [],
   "source": [
    "# CONNECT BETWEEN ALOX5 -> CANCER\n",
    "fc = FindConnection(input_obj, output_obj, registry=reg)"
   ]
  },
  {
   "cell_type": "code",
   "execution_count": 183,
   "metadata": {},
   "outputs": [
    {
     "name": "stdout",
     "output_type": "stream",
     "text": [
      "start to query from entrez:240\n",
      "1st query completed\n",
      "start to query from mondo:MONDO:0004992\n",
      "Yes\n",
      "2nd query completed\n",
      "completed!\n"
     ]
    }
   ],
   "source": [
    "fc.connect()"
   ]
  },
  {
   "cell_type": "code",
   "execution_count": 184,
   "metadata": {},
   "outputs": [
    {
     "data": {
      "text/plain": [
       "[['240', 'C0004153', 'MONDO:0004992'],\n",
       " ['240', 'C0004153', 'MONDO:0004992'],\n",
       " ['240', 'C0004153', 'MONDO:0004992'],\n",
       " ['240', 'C0004153', 'MONDO:0004992'],\n",
       " ['240', 'C0024623', 'MONDO:0004992'],\n",
       " ['240', 'C0699791', 'MONDO:0004992'],\n",
       " ['240', 'C0003873', 'MONDO:0004992'],\n",
       " ['240', 'C0003873', 'MONDO:0004992'],\n",
       " ['240', 'C0003873', 'MONDO:0004992'],\n",
       " ['240', 'C0003873', 'MONDO:0004992'],\n",
       " ['240', 'C0027627', 'MONDO:0004992'],\n",
       " ['240', 'C0027627', 'MONDO:0004992'],\n",
       " ['240', 'C0004096', 'MONDO:0004992'],\n",
       " ['240', 'C0004096', 'MONDO:0004992'],\n",
       " ['240', 'C0023473', 'MONDO:0004992'],\n",
       " ['240', 'C0023473', 'MONDO:0004992'],\n",
       " ['240', 'C0001430', 'MONDO:0004992'],\n",
       " ['240', '9031', 'MONDO:0004992'],\n",
       " ['240', '9112', 'MONDO:0004992'],\n",
       " ['240', 'GO:0019221', 'MONDO:0004992'],\n",
       " ['240', 'GO:0019372', 'MONDO:0004992'],\n",
       " ['240', 'GO:0035655', 'MONDO:0004992'],\n",
       " ['240', 'GO:0042759', 'MONDO:0004992'],\n",
       " ['240', 'GO:0043312', 'MONDO:0004992'],\n",
       " ['240', 'GO:0055114', 'MONDO:0004992'],\n",
       " ['240', 'R-HSA-6785807', 'MONDO:0004992'],\n",
       " ['240', 'C0332448', 'MONDO:0004992'],\n",
       " ['240', 'C0332448', 'MONDO:0004992'],\n",
       " ['240', 'C0027651', 'MONDO:0004992'],\n",
       " ['240', 'C0027651', 'MONDO:0004992'],\n",
       " ['240', 'C0009402', 'MONDO:0004992'],\n",
       " ['240', 'C0009402', 'MONDO:0004992'],\n",
       " ['240', 'C0021368', 'MONDO:0004992'],\n",
       " ['240', 'C0020507', 'MONDO:0004992'],\n",
       " ['240', 'C0017262', 'MONDO:0004992'],\n",
       " ['240', 'C0017262', 'MONDO:0004992'],\n",
       " ['240', 'C0020967', 'MONDO:0004992'],\n",
       " ['240', 'C0031715', 'MONDO:0004992'],\n",
       " ['240', 'C0031715', 'MONDO:0004992'],\n",
       " ['240', 'C0032529', 'MONDO:0004992'],\n",
       " ['240', 'C0032529', 'MONDO:0004992'],\n",
       " ['240', 'C0032529', 'MONDO:0004992'],\n",
       " ['240', 'C0032529', 'MONDO:0004992'],\n",
       " ['240', 'C0037080', 'MONDO:0004992'],\n",
       " ['240', 'C0037080', 'MONDO:0004992'],\n",
       " ['240', 'C0037080', 'MONDO:0004992'],\n",
       " ['240', 'C0040649', 'MONDO:0004992'],\n",
       " ['240', 'C0040649', 'MONDO:0004992'],\n",
       " ['240', 'C0040649', 'MONDO:0004992'],\n",
       " ['240', 'C0086982', 'MONDO:0004992'],\n",
       " ['240', 'C0086982', 'MONDO:0004992'],\n",
       " ['240', 'C0086982', 'MONDO:0004992'],\n",
       " ['240', 'C0596290', 'MONDO:0004992'],\n",
       " ['240', 'C0596290', 'MONDO:0004992'],\n",
       " ['240', 'C0598501', 'MONDO:0004992'],\n",
       " ['240', 'C1326500', 'MONDO:0004992'],\n",
       " ['240', 'C0019010', 'MONDO:0004992'],\n",
       " ['240', 'C0019010', 'MONDO:0004992'],\n",
       " ['240', 'C0162493', 'MONDO:0004992'],\n",
       " ['240', 'C0162493', 'MONDO:0004992'],\n",
       " ['240', 'C0243102', 'MONDO:0004992'],\n",
       " ['240', 'C0010531', 'MONDO:0004992'],\n",
       " ['240', 'C0763282', 'MONDO:0004992'],\n",
       " ['240', 'C1439334', 'MONDO:0004992'],\n",
       " ['240', 'C1705556', 'MONDO:0004992'],\n",
       " ['240', 'C1705556', 'MONDO:0004992'],\n",
       " ['240', 'C1705556', 'MONDO:0004992'],\n",
       " ['240', 'C1705556', 'MONDO:0004992'],\n",
       " ['240', 'C1421947', 'MONDO:0004992'],\n",
       " ['240', 'C1416825', 'MONDO:0004992'],\n",
       " ['240', 'C1416825', 'MONDO:0004992'],\n",
       " ['240', 'C1417500', 'MONDO:0004992'],\n",
       " ['240', 'C0002006', 'MONDO:0004992'],\n",
       " ['240', 'C0002006', 'MONDO:0004992'],\n",
       " ['240', 'C0002006', 'MONDO:0004992'],\n",
       " ['240', 'C0023545', 'MONDO:0004992'],\n",
       " ['240', 'C0023545', 'MONDO:0004992'],\n",
       " ['240', 'C0023545', 'MONDO:0004992'],\n",
       " ['240', 'C0023545', 'MONDO:0004992'],\n",
       " ['240', 'C0023545', 'MONDO:0004992'],\n",
       " ['240', 'C0023545', 'MONDO:0004992'],\n",
       " ['240', 'C0023546', 'MONDO:0004992'],\n",
       " ['240', 'C0023546', 'MONDO:0004992'],\n",
       " ['240', 'C0282555', 'MONDO:0004992'],\n",
       " ['240', 'C1101610', 'MONDO:0004992'],\n",
       " ['240', 'C1101610', 'MONDO:0004992'],\n",
       " ['240', 'C1101610', 'MONDO:0004992'],\n",
       " ['240', 'C1101610', 'MONDO:0004992'],\n",
       " ['240', 'C1101610', 'MONDO:0004992'],\n",
       " ['240', 'C1101610', 'MONDO:0004992'],\n",
       " ['240', 'C1101610', 'MONDO:0004992'],\n",
       " ['240', 'C1101610', 'MONDO:0004992'],\n",
       " ['240', 'C1101610', 'MONDO:0004992'],\n",
       " ['240', 'C1101610', 'MONDO:0004992'],\n",
       " ['240', 'C0003695', 'MONDO:0004992'],\n",
       " ['240', 'C0003695', 'MONDO:0004992'],\n",
       " ['240', 'C0006675', 'MONDO:0004992'],\n",
       " ['240', 'C0006675', 'MONDO:0004992'],\n",
       " ['240', 'C0009262', 'MONDO:0004992'],\n",
       " ['240', 'C0009262', 'MONDO:0004992'],\n",
       " ['240', 'C0015153', 'MONDO:0004992'],\n",
       " ['240', 'C0038734', 'MONDO:0004992'],\n",
       " ['240', 'C0039654', 'MONDO:0004992'],\n",
       " ['240', 'C0058129', 'MONDO:0004992'],\n",
       " ['240', 'C0071097', 'MONDO:0004992'],\n",
       " ['240', 'C0286651', 'MONDO:0004992'],\n",
       " ['240', 'C0286651', 'MONDO:0004992'],\n",
       " ['240', 'C0359916', 'MONDO:0004992'],\n",
       " ['240', 'C0359916', 'MONDO:0004992'],\n",
       " ['240', 'C0702172', 'MONDO:0004992'],\n",
       " ['240', 'C0702172', 'MONDO:0004992'],\n",
       " ['240', 'C1520007', 'MONDO:0004992'],\n",
       " ['240', 'C1707615', 'MONDO:0004992'],\n",
       " ['240', 'C1706384', 'MONDO:0004992'],\n",
       " ['240', 'C1706384', 'MONDO:0004992'],\n",
       " ['240', 'C1705526', 'MONDO:0004992'],\n",
       " ['240', 'C1705526', 'MONDO:0004992'],\n",
       " ['240', 'C1705526', 'MONDO:0004992'],\n",
       " ['240', 'C0079419', 'MONDO:0004992'],\n",
       " ['240', 'C0079419', 'MONDO:0004992'],\n",
       " ['240', 'C0014442', 'MONDO:0004992'],\n",
       " ['240', 'C0014442', 'MONDO:0004992'],\n",
       " ['240', 'C1309483', 'MONDO:0004992'],\n",
       " ['240', 'C0165519', 'MONDO:0004992'],\n",
       " ['240', 'C0007595', 'MONDO:0004992'],\n",
       " ['240', 'C0007595', 'MONDO:0004992'],\n",
       " ['240', 'C1704928', 'MONDO:0004992'],\n",
       " ['240', 'C1704928', 'MONDO:0004992'],\n",
       " ['240', 'C1704928', 'MONDO:0004992'],\n",
       " ['240', 'C1704928', 'MONDO:0004992'],\n",
       " ['240', 'C3273507', 'MONDO:0004992'],\n",
       " ['240', 'C3273507', 'MONDO:0004992'],\n",
       " ['240', 'C1826328', 'MONDO:0004992'],\n",
       " ['240', 'C1826328', 'MONDO:0004992'],\n",
       " ['240', 'C1826328', 'MONDO:0004992'],\n",
       " ['240', 'C1826328', 'MONDO:0004992'],\n",
       " ['240', 'C1706326', 'MONDO:0004992'],\n",
       " ['240', 'C1706326', 'MONDO:0004992'],\n",
       " ['240', 'C0017337', 'MONDO:0004992'],\n",
       " ['240', 'C0017337', 'MONDO:0004992'],\n",
       " ['240', 'C1418215', 'MONDO:0004992']]"
      ]
     },
     "execution_count": 184,
     "metadata": {},
     "output_type": "execute_result"
    }
   ],
   "source": [
    "fc.show_path()"
   ]
  },
  {
   "cell_type": "markdown",
   "metadata": {},
   "source": [
    "Connection from ALOX5 TO CSP"
   ]
  },
  {
   "cell_type": "code",
   "execution_count": 185,
   "metadata": {},
   "outputs": [
    {
     "data": {
      "text/plain": [
       "AtlasView({0: {'info': {'bts:umls': ['C0017337'], 'bts:pubmed': ['21720561'], '@type': 'Gene', '$input': 'bts:umls', '$source': 'semmed'}, 'label': 'bts:decreasesActivityOf', 'source': 'semmed'}})"
      ]
     },
     "execution_count": 185,
     "metadata": {},
     "output_type": "execute_result"
    }
   ],
   "source": [
    "fc.G['240']['C0017337']"
   ]
  },
  {
   "cell_type": "markdown",
   "metadata": {},
   "source": [
    "Connection from CSP to Cancer"
   ]
  },
  {
   "cell_type": "code",
   "execution_count": 187,
   "metadata": {},
   "outputs": [
    {
     "data": {
      "text/plain": [
       "AtlasView({0: {'info': {'bts:umls': ['C0017337'], 'bts:pubmed': ['8639263', '1489520', '1735610', '8080850', '8521721', '7527485', '7513818', '21573675', '8542276', '1288875', '21556547', '2844164', '10903528', '11027309', '10673281', '11477582', '10389982', '9387895', '10807049', '11453308', '9598307', '11562182', '9395241', '9635881', '11566346', '11696423', '10920231', '12668615', '12044926', '12780524', '11076037', '11163152', '9770118', '9802616', '9403053', '9865711', '12370818', '10860921', '10860921', '11289106', '9460501', '12242018', '10353382', '12826037', '11895851', '17989776', '17804716', '18253029', '18038880', '16328031', '16252261', '16252261', '15033776', '15588854', '18041919', '16000246', '17999367', '17047040', '17118426', '15300013', '15131351', '17590270', '14694446', '15165898', '16462763', '16462763', '16455481', '18006816', '12846580', '16267004', '15307134', '17447839', '16869769', '17604334', '18473995', '17537913', '17537913', '16351740', '15778693', '14763125', '17702974', '15247014', '15517014', '17043662', '15556300', '15358197', '14574404', '15254780', '16699611', '16103195', '21377624', '21377624', '18834210', '20124459', '21812140', '21812140', '18837321', '19551857', '20093384', '21135262', '21522185', '21386967', '21989366', '21638208', '21562711', '20703099', '19123201', '20957815', '20686567', '20143131', '21638026', '20380571', '18710882', '21435387', '21781349', '20038820', '19233941', '18661375', '21165954', '19388522', '18371197', '18371197', '21798893', '19147536', '20736853', '21368825', '20026333', '18353987', '18367246', '18507500', '23223448', '22312828', '23073772', '22067145', '22510280', '24688711', '23095178', '22761861', '22431710', '23166660', '22907887', '23161685', '24212830', '22123319', '23014630', '22867264', '23317414', '22048456', '22048456', '22121210', '23751374', '24225062', '24225062', '23420707', '23858099', '23966158', '24086395', '24362839', '23382830', '24362509', '23424118', '24284058', '24920890', '24672738', '25129434', '24813447', '24927284', '24992170', '25323581', '25748388', '26683094', '26198235', '25712765', '26646725', '26473415', '26062823', '26377837', '26418909', '26566034', '26149668', '26427375', '26479350', '26510912', '26552734', '25588927', '26881050', '27103578', '26810975', '27034009', '25831888', '27475397', '27320194', '27190005', '27145964', '27186424', '27350677', '27876760', '27876760', '28249716', '28500316', '28582573', '28445780', '28262751', '28346444', '28928839', '28710449', '28877888', '28866361', '29102090', '28974397', '29258885', '28962832', '28851357'], '@type': 'Gene', '$input': 'bts:umls', '$source': 'semmed'}, 'label': 'bts:associatedWith', 'source': 'semmed'}, 1: {'info': {'bts:umls': ['C0017337'], 'bts:pubmed': ['11654202', '11654200', '11654201', '8898325', '2011135', '8718510', '1591284', '1841051', '9154004', '7981072', '8198395', '7654038', '1516027', '8838233', '2101720', '2101720', '2101720', '18411127', '7584999', '1399577', '7833928', '2655817', '2655817', '6355858', '3796607', '6226035', '2755701', '2652348', '4051429', '2993762', '4039033', '11257109', '11337936', '11305320', '10854484', '12065746', '11197775', '9262247', '11855747', '11179017', '12529653', '10818392', '10818392', '11499980', '10064544', '10728991', '9405643', '11675151', '12204535', '9620558', '9509273', '10829052', '16988415', '15977721', '17634480', '16177664', '17194187', '17133111', '17940005', '18057547', '16247412', '16085540', '17589521', '15102353', '15102353', '17483452', '17081304', '17454737', '16475125', '18029777', '17869219', '17203201', '16434591', '18445513', '18295396', '21425081', '20233590', '19394376', '21508386', '19874631', '19434452', '21086069', '20955692', '20605923', '21301065', '21769135', '20038252', '18006136', '23305095', '23162078', '22215953', '22715311', '22505138', '22924096', '26069058', '22941764', '23266556', '24101097', '24166911', '23615878', '23355119', '23878130', '25210385', '24685408', '24966531', '24726492', '24995286', '24434356', '25404506', '24397478', '24936030', '24957955', '26110128', '26651018', '25636508', '26622599', '26709830', '26078562', '26975600', '26837221', '26837221', '26801878', '27150584', '25865046', '27774893', '27585651', '27610414', '28367561', '28753606', '29191063', '28926927', '28738360', '12718614'], '@type': 'Gene', '$input': 'bts:umls', '$source': 'semmed'}, 'label': 'bts:causedBy', 'source': 'semmed'}})"
      ]
     },
     "execution_count": 187,
     "metadata": {},
     "output_type": "execute_result"
    }
   ],
   "source": [
    "fc.G['C0017337']['MONDO:0004992']"
   ]
  }
 ],
 "metadata": {
  "kernelspec": {
   "display_name": "Python 3",
   "language": "python",
   "name": "python3"
  },
  "language_info": {
   "codemirror_mode": {
    "name": "ipython",
    "version": 3
   },
   "file_extension": ".py",
   "mimetype": "text/x-python",
   "name": "python",
   "nbconvert_exporter": "python",
   "pygments_lexer": "ipython3",
   "version": "3.7.3"
  }
 },
 "nbformat": 4,
 "nbformat_minor": 2
}
